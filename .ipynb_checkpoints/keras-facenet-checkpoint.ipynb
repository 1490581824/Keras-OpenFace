{
 "cells": [
  {
   "cell_type": "code",
   "execution_count": 3,
   "metadata": {
    "collapsed": true
   },
   "outputs": [],
   "source": [
    "%matplotlib inline"
   ]
  },
  {
   "cell_type": "code",
   "execution_count": 72,
   "metadata": {
    "collapsed": false
   },
   "outputs": [],
   "source": [
    "from keras.models import Sequential\n",
    "from keras.layers import Conv2D, ZeroPadding2D\n",
    "import cv2\n",
    "import numpy as np\n",
    "from numpy import genfromtxt\n",
    "import pandas as pd\n",
    "\n",
    "w1 = '/Users/victor_sy_wang/Developer/ML/openface/models/openface/layer1_w.csv'\n",
    "b1 = '/Users/victor_sy_wang/Developer/ML/openface/models/openface/layer1_b.csv'"
   ]
  },
  {
   "cell_type": "code",
   "execution_count": 89,
   "metadata": {
    "collapsed": false
   },
   "outputs": [
    {
     "name": "stdout",
     "output_type": "stream",
     "text": [
      "((7, 7, 3, 64), array([ 0.07432853, -0.06500489,  0.01973198, -0.03164541,  0.04986416,\n",
      "        0.04746565, -0.06268317,  0.04497291, -0.05216052, -0.06176173,\n",
      "        0.02636961, -0.03982262, -0.06870739, -0.01500778,  0.00372739,\n",
      "       -0.07971381, -0.06127921,  0.04724471, -0.03808348, -0.03344806,\n",
      "        0.07216649,  0.07477196,  0.0629585 ,  0.05848179,  0.03575065,\n",
      "       -0.03879078, -0.01604805, -0.07423716, -0.00941265,  0.0214014 ,\n",
      "       -0.02287229,  0.0663086 , -0.01010718, -0.02637136, -0.00139301,\n",
      "       -0.01988044, -0.05324499, -0.07041611, -0.06099652, -0.06074483,\n",
      "       -0.00696069,  0.07159741, -0.07825537, -0.033103  , -0.00622472,\n",
      "       -0.07154575, -0.04059464,  0.00037237, -0.00041962,  0.07437113,\n",
      "       -0.0089185 , -0.04167552, -0.01440586, -0.00870561, -0.05802949,\n",
      "        0.05733399, -0.02441243,  0.05660551,  0.04555712,  0.05215101,\n",
      "        0.0126888 ,  0.0545151 ,  0.021539  , -0.02868187]))\n"
     ]
    }
   ],
   "source": [
    "layer1_w = genfromtxt(w1, delimiter=',', dtype=None)\n",
    "layer1_w = layer1_w.reshape(64, 3, 7, 7)\n",
    "layer1_w = np.transpose(layer1_w, (3, 2, 1, 0))\n",
    "layer1_b = genfromtxt(b1, delimiter=',', dtype=None)\n",
    "# print(layer1_w.shape)\n",
    "# print(layer1_b)\n",
    "layer1 = [layer1_w, layer1_b]\n",
    "print(layer1[0].shape, layer1[1])"
   ]
  },
  {
   "cell_type": "code",
   "execution_count": 91,
   "metadata": {
    "collapsed": false
   },
   "outputs": [],
   "source": [
    "model = Sequential()\n",
    "model.add(ZeroPadding2D(padding=(3, 3), input_shape=(96, 96, 3)))\n",
    "model.add(Conv2D(64, (7, 7), strides=(2, 2)))\n",
    "\n",
    "model.layers[1].set_weights(layer1)"
   ]
  },
  {
   "cell_type": "code",
   "execution_count": 93,
   "metadata": {
    "collapsed": false
   },
   "outputs": [
    {
     "name": "stdout",
     "output_type": "stream",
     "text": [
      "((7, 7, 3, 64), array([ 0.07432853, -0.06500489,  0.01973198, -0.03164541,  0.04986416,\n",
      "        0.04746565, -0.06268317,  0.04497291, -0.05216052, -0.06176173,\n",
      "        0.02636961, -0.03982262, -0.06870739, -0.01500778,  0.00372739,\n",
      "       -0.07971381, -0.06127921,  0.04724471, -0.03808348, -0.03344806,\n",
      "        0.07216649,  0.07477196,  0.0629585 ,  0.05848179,  0.03575065,\n",
      "       -0.03879078, -0.01604805, -0.07423716, -0.00941265,  0.0214014 ,\n",
      "       -0.02287229,  0.0663086 , -0.01010718, -0.02637136, -0.00139301,\n",
      "       -0.01988044, -0.05324499, -0.07041611, -0.06099652, -0.06074483,\n",
      "       -0.00696069,  0.07159741, -0.07825537, -0.033103  , -0.00622472,\n",
      "       -0.07154575, -0.04059464,  0.00037237, -0.00041962,  0.07437113,\n",
      "       -0.0089185 , -0.04167552, -0.01440586, -0.00870561, -0.05802949,\n",
      "        0.05733399, -0.02441243,  0.05660551,  0.04555712,  0.05215101,\n",
      "        0.0126888 ,  0.0545151 ,  0.021539  , -0.02868187], dtype=float32))\n"
     ]
    }
   ],
   "source": [
    "w= model.layers[1].get_weights()\n",
    "print(w[0].shape, w[1])"
   ]
  },
  {
   "cell_type": "code",
   "execution_count": 98,
   "metadata": {
    "collapsed": false
   },
   "outputs": [
    {
     "name": "stdout",
     "output_type": "stream",
     "text": [
      "(1, 96, 96, 3)\n",
      "(1, 48, 48, 64)\n",
      "[[[[  1.66179352e+02   1.91337280e+02  -1.93302822e+01 ...,\n",
      "      7.95837555e+01   2.86261158e+01  -2.55331383e+01]\n",
      "   [  3.09048676e+02   7.58578720e+01  -2.10157299e+01 ...,\n",
      "      1.66558670e+02  -4.13219185e+01  -6.82331204e-01]\n",
      "   [  3.28848816e+02  -1.33833313e+01  -4.34257164e+01 ...,\n",
      "      1.59635803e+02  -9.12863159e+00   1.20998993e+01]\n",
      "   ..., \n",
      "   [  3.94540314e+02  -2.76876545e+01  -4.72915459e+01 ...,\n",
      "      1.89773666e+02  -6.12146683e+01   2.65799389e+01]\n",
      "   [  3.62265411e+02  -4.97721977e+01  -5.77490692e+01 ...,\n",
      "      1.82969193e+02  -2.97960682e+01   1.31112039e-01]\n",
      "   [  3.17134277e+02  -2.27550262e+02   2.25412426e+01 ...,\n",
      "      2.12735840e+02  -3.31384888e+02   4.95363159e+01]]\n",
      "\n",
      "  [[ -5.99857521e+01   2.94751587e+02  -9.60133362e+00 ...,\n",
      "     -1.68922787e+01   3.15529938e+01  -3.44257088e+01]\n",
      "   [ -3.84530640e+01   1.49740387e+02  -5.87075663e+00 ...,\n",
      "      9.55169144e+01  -1.40578222e+01   5.65185356e+00]\n",
      "   [ -2.45296478e+01   4.24217720e+01  -3.14516125e+01 ...,\n",
      "      1.23500893e+02   1.75600128e+01   1.35291138e+01]\n",
      "   ..., \n",
      "   [ -2.45968971e+01   2.79596024e+01  -2.18884830e+01 ...,\n",
      "      1.51963776e+02  -3.72249527e+01   3.67817268e+01]\n",
      "   [ -2.70875950e+01  -8.89123023e-01  -3.60835838e+01 ...,\n",
      "      1.36050140e+02  -6.71338129e+00   7.60090780e+00]\n",
      "   [ -1.02465525e+01  -2.85937927e+02   9.66558838e+01 ...,\n",
      "      1.97148727e+02  -4.04629089e+02   7.34467010e+01]]\n",
      "\n",
      "  [[ -5.39434471e+01   3.18502777e+02  -4.91172943e+01 ...,\n",
      "     -6.25032921e+01   4.09282150e+01  -3.16469994e+01]\n",
      "   [ -8.09153976e+01   1.60229584e+02   3.21371651e+00 ...,\n",
      "      1.51930723e+01  -3.06652451e+01   2.96914792e+00]\n",
      "   [ -9.49440689e+01   4.71665421e+01  -2.45865250e+01 ...,\n",
      "      1.89493904e+01  -1.37024134e-01   2.31249142e+01]\n",
      "   ..., \n",
      "   [ -1.06774239e+02   3.73926544e+01   1.21559582e+01 ...,\n",
      "      2.54769936e+01  -4.32672195e+01   3.89830093e+01]\n",
      "   [ -8.13305359e+01  -5.82664013e+00   9.22216892e+00 ...,\n",
      "      3.97948570e+01  -4.16671753e+01   2.15053520e+01]\n",
      "   [ -8.17699509e+01  -3.18523743e+02   1.24997162e+02 ...,\n",
      "      8.75643311e+01  -4.24505371e+02   5.67746696e+01]]\n",
      "\n",
      "  ..., \n",
      "  [[ -2.67923965e+01   2.01409943e+02  -1.19624834e+01 ...,\n",
      "     -2.68215847e+01   1.70854855e+01  -1.42749052e+01]\n",
      "   [ -2.24359188e+01   1.06096893e+02  -8.36963177e+00 ...,\n",
      "      1.69645653e+01  -1.06046267e+01   3.28099346e+00]\n",
      "   [ -1.01934633e+01   2.93523979e+01  -2.29067955e+01 ...,\n",
      "      2.53903790e+01  -1.59382639e+01   1.54447889e+01]\n",
      "   ..., \n",
      "   [ -2.53128433e+01   4.14089699e+01  -6.64400244e+00 ...,\n",
      "      3.42999802e+01  -1.07190218e+01   1.40748625e+01]\n",
      "   [ -1.80834770e+01   4.92333755e+01  -3.47534523e+01 ...,\n",
      "      3.81396828e+01  -1.69941750e+01   4.25966263e-01]\n",
      "   [ -6.48167114e+01  -2.00786514e+02   5.77293739e+01 ...,\n",
      "      5.81502800e+01  -3.19991608e+02   4.89052773e+01]]\n",
      "\n",
      "  [[ -2.02619572e+01   1.93630753e+02  -7.60855293e+00 ...,\n",
      "     -2.48653545e+01   1.45254507e+01  -1.38818531e+01]\n",
      "   [ -1.05264339e+01   1.03149750e+02  -1.12142363e+01 ...,\n",
      "      1.69769688e+01  -1.00746965e+01   6.84705973e-01]\n",
      "   [ -5.32982540e+00   3.67033310e+01  -2.08473911e+01 ...,\n",
      "      2.38129349e+01  -1.14689608e+01   1.39581528e+01]\n",
      "   ..., \n",
      "   [ -3.79358292e+01   5.03902054e+01  -2.38449230e+01 ...,\n",
      "      2.44350052e+01  -1.43075342e+01   8.94390965e+00]\n",
      "   [ -5.21427536e+01   2.67769127e+01  -2.42730064e+01 ...,\n",
      "      2.00942421e+01  -3.45888176e+01   1.07676888e+01]\n",
      "   [ -5.07093582e+01  -2.03917557e+02   6.62756271e+01 ...,\n",
      "      6.28896408e+01  -2.79188110e+02   4.95195198e+01]]\n",
      "\n",
      "  [[ -1.22653381e+02   1.40397293e+02  -2.58057137e+01 ...,\n",
      "     -3.46419754e+01   1.90507793e+01  -1.72056999e+01]\n",
      "   [ -1.80295563e+02   8.28294983e+01  -1.05857754e+01 ...,\n",
      "      1.37412195e+01   1.30397520e+01   4.42412472e+00]\n",
      "   [ -1.90478912e+02   3.53500671e+01  -1.59507885e+01 ...,\n",
      "      3.15611534e+01   1.73882332e+01   3.67739010e+00]\n",
      "   ..., \n",
      "   [ -2.33136673e+02   3.27208138e+01  -1.81501541e+01 ...,\n",
      "      2.25075798e+01   5.60766411e+00   3.70871902e-01]\n",
      "   [ -2.32495926e+02   2.35171204e+01  -6.53549385e+00 ...,\n",
      "      3.35568161e+01   4.32173061e+00   8.79938793e+00]\n",
      "   [ -1.87898849e+02  -1.30809433e+02   4.66056175e+01 ...,\n",
      "      7.17904434e+01  -1.72522644e+02   2.17432804e+01]]]]\n"
     ]
    }
   ],
   "source": [
    "img = cv2.imread('/Users/victor_sy_wang/Developer/ML/openface/images/examples-aligned/lennon-1.png', 1)\n",
    "x_train = np.array([img])\n",
    "y = model.predict_on_batch(x_train)\n",
    "print(x_train.shape)\n",
    "print(y.shape)\n",
    "print(y)\n",
    "\n"
   ]
  },
  {
   "cell_type": "code",
   "execution_count": 10,
   "metadata": {
    "collapsed": false
   },
   "outputs": [
    {
     "name": "stdout",
     "output_type": "stream",
     "text": [
      "Epoch 1/10\n",
      "100/100 [==============================] - 8s - loss: 2.3586     \b\b\b\b\b\b\b\b\b\b\b\b\b\b\b\b\b\b\b\b\b\b\b\b\b\b\b\b\b\b\b\b\b\b\b\b\b\b\b\b\b\b\b\b\b\b\b\b\b\b\b\b\b\b\b\b\b\b\b\b\b\b\b\b\b\b\b\b\b\b\b\b\b\b\b\b\b\b\b\b\b\b\b\b\b\b\b\b\b\b\b\b\b\b\b\b\b\b\b\b\b\b\b\b\b\b\b\b\b\b\b\b\b\b\b\b\b\b\b\b\b\b\b\b\b\b\b\b\b\b\b\b\b\b\b\b\b\b\b\b\b\b\b\b\b\b\b\b\b\b\b\b\b\b\b\b\b\b\b\b\b\b\b\b\b\b\b\b\b\b\b\b\b\b\b\b\b\b\b\b\b\b\b\b\b\b\b\b\b\b\b\b\b\b\b\n",
      "Epoch 2/10\n",
      " 32/100 [========>.....................] - ETA: 4s - loss: 2.3244"
     ]
    },
    {
     "ename": "KeyboardInterrupt",
     "evalue": "",
     "output_type": "error",
     "traceback": [
      "\u001b[0;31m---------------------------------------------------------------------------\u001b[0m",
      "\u001b[0;31mKeyboardInterrupt\u001b[0m                         Traceback (most recent call last)",
      "\u001b[0;32m<ipython-input-10-938288040af9>\u001b[0m in \u001b[0;36m<module>\u001b[0;34m()\u001b[0m\n\u001b[1;32m     33\u001b[0m \u001b[0mmodel\u001b[0m\u001b[0;34m.\u001b[0m\u001b[0mcompile\u001b[0m\u001b[0;34m(\u001b[0m\u001b[0mloss\u001b[0m\u001b[0;34m=\u001b[0m\u001b[0;34m'categorical_crossentropy'\u001b[0m\u001b[0;34m,\u001b[0m \u001b[0moptimizer\u001b[0m\u001b[0;34m=\u001b[0m\u001b[0msgd\u001b[0m\u001b[0;34m)\u001b[0m\u001b[0;34m\u001b[0m\u001b[0m\n\u001b[1;32m     34\u001b[0m \u001b[0;34m\u001b[0m\u001b[0m\n\u001b[0;32m---> 35\u001b[0;31m \u001b[0mmodel\u001b[0m\u001b[0;34m.\u001b[0m\u001b[0mfit\u001b[0m\u001b[0;34m(\u001b[0m\u001b[0mx_train\u001b[0m\u001b[0;34m,\u001b[0m \u001b[0my_train\u001b[0m\u001b[0;34m,\u001b[0m \u001b[0mbatch_size\u001b[0m\u001b[0;34m=\u001b[0m\u001b[0;36m32\u001b[0m\u001b[0;34m,\u001b[0m \u001b[0mepochs\u001b[0m\u001b[0;34m=\u001b[0m\u001b[0;36m10\u001b[0m\u001b[0;34m)\u001b[0m\u001b[0;34m\u001b[0m\u001b[0m\n\u001b[0m\u001b[1;32m     36\u001b[0m \u001b[0mscore\u001b[0m \u001b[0;34m=\u001b[0m \u001b[0mmodel\u001b[0m\u001b[0;34m.\u001b[0m\u001b[0mevaluate\u001b[0m\u001b[0;34m(\u001b[0m\u001b[0mx_test\u001b[0m\u001b[0;34m,\u001b[0m \u001b[0my_test\u001b[0m\u001b[0;34m,\u001b[0m \u001b[0mbatch_size\u001b[0m\u001b[0;34m=\u001b[0m\u001b[0;36m32\u001b[0m\u001b[0;34m)\u001b[0m\u001b[0;34m\u001b[0m\u001b[0m\n",
      "\u001b[0;32m/Users/victor_sy_wang/anaconda/lib/python2.7/site-packages/keras/models.pyc\u001b[0m in \u001b[0;36mfit\u001b[0;34m(self, x, y, batch_size, epochs, verbose, callbacks, validation_split, validation_data, shuffle, class_weight, sample_weight, initial_epoch, **kwargs)\u001b[0m\n\u001b[1;32m    843\u001b[0m                               \u001b[0mclass_weight\u001b[0m\u001b[0;34m=\u001b[0m\u001b[0mclass_weight\u001b[0m\u001b[0;34m,\u001b[0m\u001b[0;34m\u001b[0m\u001b[0m\n\u001b[1;32m    844\u001b[0m                               \u001b[0msample_weight\u001b[0m\u001b[0;34m=\u001b[0m\u001b[0msample_weight\u001b[0m\u001b[0;34m,\u001b[0m\u001b[0;34m\u001b[0m\u001b[0m\n\u001b[0;32m--> 845\u001b[0;31m                               initial_epoch=initial_epoch)\n\u001b[0m\u001b[1;32m    846\u001b[0m \u001b[0;34m\u001b[0m\u001b[0m\n\u001b[1;32m    847\u001b[0m     def evaluate(self, x, y, batch_size=32, verbose=1,\n",
      "\u001b[0;32m/Users/victor_sy_wang/anaconda/lib/python2.7/site-packages/keras/engine/training.pyc\u001b[0m in \u001b[0;36mfit\u001b[0;34m(self, x, y, batch_size, epochs, verbose, callbacks, validation_split, validation_data, shuffle, class_weight, sample_weight, initial_epoch, **kwargs)\u001b[0m\n\u001b[1;32m   1483\u001b[0m                               \u001b[0mval_f\u001b[0m\u001b[0;34m=\u001b[0m\u001b[0mval_f\u001b[0m\u001b[0;34m,\u001b[0m \u001b[0mval_ins\u001b[0m\u001b[0;34m=\u001b[0m\u001b[0mval_ins\u001b[0m\u001b[0;34m,\u001b[0m \u001b[0mshuffle\u001b[0m\u001b[0;34m=\u001b[0m\u001b[0mshuffle\u001b[0m\u001b[0;34m,\u001b[0m\u001b[0;34m\u001b[0m\u001b[0m\n\u001b[1;32m   1484\u001b[0m                               \u001b[0mcallback_metrics\u001b[0m\u001b[0;34m=\u001b[0m\u001b[0mcallback_metrics\u001b[0m\u001b[0;34m,\u001b[0m\u001b[0;34m\u001b[0m\u001b[0m\n\u001b[0;32m-> 1485\u001b[0;31m                               initial_epoch=initial_epoch)\n\u001b[0m\u001b[1;32m   1486\u001b[0m \u001b[0;34m\u001b[0m\u001b[0m\n\u001b[1;32m   1487\u001b[0m     \u001b[0;32mdef\u001b[0m \u001b[0mevaluate\u001b[0m\u001b[0;34m(\u001b[0m\u001b[0mself\u001b[0m\u001b[0;34m,\u001b[0m \u001b[0mx\u001b[0m\u001b[0;34m,\u001b[0m \u001b[0my\u001b[0m\u001b[0;34m,\u001b[0m \u001b[0mbatch_size\u001b[0m\u001b[0;34m=\u001b[0m\u001b[0;36m32\u001b[0m\u001b[0;34m,\u001b[0m \u001b[0mverbose\u001b[0m\u001b[0;34m=\u001b[0m\u001b[0;36m1\u001b[0m\u001b[0;34m,\u001b[0m \u001b[0msample_weight\u001b[0m\u001b[0;34m=\u001b[0m\u001b[0mNone\u001b[0m\u001b[0;34m)\u001b[0m\u001b[0;34m:\u001b[0m\u001b[0;34m\u001b[0m\u001b[0m\n",
      "\u001b[0;32m/Users/victor_sy_wang/anaconda/lib/python2.7/site-packages/keras/engine/training.pyc\u001b[0m in \u001b[0;36m_fit_loop\u001b[0;34m(self, f, ins, out_labels, batch_size, epochs, verbose, callbacks, val_f, val_ins, shuffle, callback_metrics, initial_epoch)\u001b[0m\n\u001b[1;32m   1138\u001b[0m                 \u001b[0mbatch_logs\u001b[0m\u001b[0;34m[\u001b[0m\u001b[0;34m'size'\u001b[0m\u001b[0;34m]\u001b[0m \u001b[0;34m=\u001b[0m \u001b[0mlen\u001b[0m\u001b[0;34m(\u001b[0m\u001b[0mbatch_ids\u001b[0m\u001b[0;34m)\u001b[0m\u001b[0;34m\u001b[0m\u001b[0m\n\u001b[1;32m   1139\u001b[0m                 \u001b[0mcallbacks\u001b[0m\u001b[0;34m.\u001b[0m\u001b[0mon_batch_begin\u001b[0m\u001b[0;34m(\u001b[0m\u001b[0mbatch_index\u001b[0m\u001b[0;34m,\u001b[0m \u001b[0mbatch_logs\u001b[0m\u001b[0;34m)\u001b[0m\u001b[0;34m\u001b[0m\u001b[0m\n\u001b[0;32m-> 1140\u001b[0;31m                 \u001b[0mouts\u001b[0m \u001b[0;34m=\u001b[0m \u001b[0mf\u001b[0m\u001b[0;34m(\u001b[0m\u001b[0mins_batch\u001b[0m\u001b[0;34m)\u001b[0m\u001b[0;34m\u001b[0m\u001b[0m\n\u001b[0m\u001b[1;32m   1141\u001b[0m                 \u001b[0;32mif\u001b[0m \u001b[0;32mnot\u001b[0m \u001b[0misinstance\u001b[0m\u001b[0;34m(\u001b[0m\u001b[0mouts\u001b[0m\u001b[0;34m,\u001b[0m \u001b[0mlist\u001b[0m\u001b[0;34m)\u001b[0m\u001b[0;34m:\u001b[0m\u001b[0;34m\u001b[0m\u001b[0m\n\u001b[1;32m   1142\u001b[0m                     \u001b[0mouts\u001b[0m \u001b[0;34m=\u001b[0m \u001b[0;34m[\u001b[0m\u001b[0mouts\u001b[0m\u001b[0;34m]\u001b[0m\u001b[0;34m\u001b[0m\u001b[0m\n",
      "\u001b[0;32m/Users/victor_sy_wang/anaconda/lib/python2.7/site-packages/keras/backend/tensorflow_backend.pyc\u001b[0m in \u001b[0;36m__call__\u001b[0;34m(self, inputs)\u001b[0m\n\u001b[1;32m   2071\u001b[0m         \u001b[0msession\u001b[0m \u001b[0;34m=\u001b[0m \u001b[0mget_session\u001b[0m\u001b[0;34m(\u001b[0m\u001b[0;34m)\u001b[0m\u001b[0;34m\u001b[0m\u001b[0m\n\u001b[1;32m   2072\u001b[0m         updated = session.run(self.outputs + [self.updates_op],\n\u001b[0;32m-> 2073\u001b[0;31m                               feed_dict=feed_dict)\n\u001b[0m\u001b[1;32m   2074\u001b[0m         \u001b[0;32mreturn\u001b[0m \u001b[0mupdated\u001b[0m\u001b[0;34m[\u001b[0m\u001b[0;34m:\u001b[0m\u001b[0mlen\u001b[0m\u001b[0;34m(\u001b[0m\u001b[0mself\u001b[0m\u001b[0;34m.\u001b[0m\u001b[0moutputs\u001b[0m\u001b[0;34m)\u001b[0m\u001b[0;34m]\u001b[0m\u001b[0;34m\u001b[0m\u001b[0m\n\u001b[1;32m   2075\u001b[0m \u001b[0;34m\u001b[0m\u001b[0m\n",
      "\u001b[0;32m/Users/victor_sy_wang/anaconda/lib/python2.7/site-packages/tensorflow/python/client/session.pyc\u001b[0m in \u001b[0;36mrun\u001b[0;34m(self, fetches, feed_dict, options, run_metadata)\u001b[0m\n\u001b[1;32m    765\u001b[0m     \u001b[0;32mtry\u001b[0m\u001b[0;34m:\u001b[0m\u001b[0;34m\u001b[0m\u001b[0m\n\u001b[1;32m    766\u001b[0m       result = self._run(None, fetches, feed_dict, options_ptr,\n\u001b[0;32m--> 767\u001b[0;31m                          run_metadata_ptr)\n\u001b[0m\u001b[1;32m    768\u001b[0m       \u001b[0;32mif\u001b[0m \u001b[0mrun_metadata\u001b[0m\u001b[0;34m:\u001b[0m\u001b[0;34m\u001b[0m\u001b[0m\n\u001b[1;32m    769\u001b[0m         \u001b[0mproto_data\u001b[0m \u001b[0;34m=\u001b[0m \u001b[0mtf_session\u001b[0m\u001b[0;34m.\u001b[0m\u001b[0mTF_GetBuffer\u001b[0m\u001b[0;34m(\u001b[0m\u001b[0mrun_metadata_ptr\u001b[0m\u001b[0;34m)\u001b[0m\u001b[0;34m\u001b[0m\u001b[0m\n",
      "\u001b[0;32m/Users/victor_sy_wang/anaconda/lib/python2.7/site-packages/tensorflow/python/client/session.pyc\u001b[0m in \u001b[0;36m_run\u001b[0;34m(self, handle, fetches, feed_dict, options, run_metadata)\u001b[0m\n\u001b[1;32m    963\u001b[0m     \u001b[0;32mif\u001b[0m \u001b[0mfinal_fetches\u001b[0m \u001b[0;32mor\u001b[0m \u001b[0mfinal_targets\u001b[0m\u001b[0;34m:\u001b[0m\u001b[0;34m\u001b[0m\u001b[0m\n\u001b[1;32m    964\u001b[0m       results = self._do_run(handle, final_targets, final_fetches,\n\u001b[0;32m--> 965\u001b[0;31m                              feed_dict_string, options, run_metadata)\n\u001b[0m\u001b[1;32m    966\u001b[0m     \u001b[0;32melse\u001b[0m\u001b[0;34m:\u001b[0m\u001b[0;34m\u001b[0m\u001b[0m\n\u001b[1;32m    967\u001b[0m       \u001b[0mresults\u001b[0m \u001b[0;34m=\u001b[0m \u001b[0;34m[\u001b[0m\u001b[0;34m]\u001b[0m\u001b[0;34m\u001b[0m\u001b[0m\n",
      "\u001b[0;32m/Users/victor_sy_wang/anaconda/lib/python2.7/site-packages/tensorflow/python/client/session.pyc\u001b[0m in \u001b[0;36m_do_run\u001b[0;34m(self, handle, target_list, fetch_list, feed_dict, options, run_metadata)\u001b[0m\n\u001b[1;32m   1013\u001b[0m     \u001b[0;32mif\u001b[0m \u001b[0mhandle\u001b[0m \u001b[0;32mis\u001b[0m \u001b[0mNone\u001b[0m\u001b[0;34m:\u001b[0m\u001b[0;34m\u001b[0m\u001b[0m\n\u001b[1;32m   1014\u001b[0m       return self._do_call(_run_fn, self._session, feed_dict, fetch_list,\n\u001b[0;32m-> 1015\u001b[0;31m                            target_list, options, run_metadata)\n\u001b[0m\u001b[1;32m   1016\u001b[0m     \u001b[0;32melse\u001b[0m\u001b[0;34m:\u001b[0m\u001b[0;34m\u001b[0m\u001b[0m\n\u001b[1;32m   1017\u001b[0m       return self._do_call(_prun_fn, self._session, handle, feed_dict,\n",
      "\u001b[0;32m/Users/victor_sy_wang/anaconda/lib/python2.7/site-packages/tensorflow/python/client/session.pyc\u001b[0m in \u001b[0;36m_do_call\u001b[0;34m(self, fn, *args)\u001b[0m\n\u001b[1;32m   1020\u001b[0m   \u001b[0;32mdef\u001b[0m \u001b[0m_do_call\u001b[0m\u001b[0;34m(\u001b[0m\u001b[0mself\u001b[0m\u001b[0;34m,\u001b[0m \u001b[0mfn\u001b[0m\u001b[0;34m,\u001b[0m \u001b[0;34m*\u001b[0m\u001b[0margs\u001b[0m\u001b[0;34m)\u001b[0m\u001b[0;34m:\u001b[0m\u001b[0;34m\u001b[0m\u001b[0m\n\u001b[1;32m   1021\u001b[0m     \u001b[0;32mtry\u001b[0m\u001b[0;34m:\u001b[0m\u001b[0;34m\u001b[0m\u001b[0m\n\u001b[0;32m-> 1022\u001b[0;31m       \u001b[0;32mreturn\u001b[0m \u001b[0mfn\u001b[0m\u001b[0;34m(\u001b[0m\u001b[0;34m*\u001b[0m\u001b[0margs\u001b[0m\u001b[0;34m)\u001b[0m\u001b[0;34m\u001b[0m\u001b[0m\n\u001b[0m\u001b[1;32m   1023\u001b[0m     \u001b[0;32mexcept\u001b[0m \u001b[0merrors\u001b[0m\u001b[0;34m.\u001b[0m\u001b[0mOpError\u001b[0m \u001b[0;32mas\u001b[0m \u001b[0me\u001b[0m\u001b[0;34m:\u001b[0m\u001b[0;34m\u001b[0m\u001b[0m\n\u001b[1;32m   1024\u001b[0m       \u001b[0mmessage\u001b[0m \u001b[0;34m=\u001b[0m \u001b[0mcompat\u001b[0m\u001b[0;34m.\u001b[0m\u001b[0mas_text\u001b[0m\u001b[0;34m(\u001b[0m\u001b[0me\u001b[0m\u001b[0;34m.\u001b[0m\u001b[0mmessage\u001b[0m\u001b[0;34m)\u001b[0m\u001b[0;34m\u001b[0m\u001b[0m\n",
      "\u001b[0;32m/Users/victor_sy_wang/anaconda/lib/python2.7/site-packages/tensorflow/python/client/session.pyc\u001b[0m in \u001b[0;36m_run_fn\u001b[0;34m(session, feed_dict, fetch_list, target_list, options, run_metadata)\u001b[0m\n\u001b[1;32m   1002\u001b[0m         return tf_session.TF_Run(session, options,\n\u001b[1;32m   1003\u001b[0m                                  \u001b[0mfeed_dict\u001b[0m\u001b[0;34m,\u001b[0m \u001b[0mfetch_list\u001b[0m\u001b[0;34m,\u001b[0m \u001b[0mtarget_list\u001b[0m\u001b[0;34m,\u001b[0m\u001b[0;34m\u001b[0m\u001b[0m\n\u001b[0;32m-> 1004\u001b[0;31m                                  status, run_metadata)\n\u001b[0m\u001b[1;32m   1005\u001b[0m \u001b[0;34m\u001b[0m\u001b[0m\n\u001b[1;32m   1006\u001b[0m     \u001b[0;32mdef\u001b[0m \u001b[0m_prun_fn\u001b[0m\u001b[0;34m(\u001b[0m\u001b[0msession\u001b[0m\u001b[0;34m,\u001b[0m \u001b[0mhandle\u001b[0m\u001b[0;34m,\u001b[0m \u001b[0mfeed_dict\u001b[0m\u001b[0;34m,\u001b[0m \u001b[0mfetch_list\u001b[0m\u001b[0;34m)\u001b[0m\u001b[0;34m:\u001b[0m\u001b[0;34m\u001b[0m\u001b[0m\n",
      "\u001b[0;31mKeyboardInterrupt\u001b[0m: "
     ]
    }
   ],
   "source": [
    "import numpy as np\n",
    "import keras\n",
    "from keras.models import Sequential\n",
    "from keras.layers import Dense, Dropout, Flatten\n",
    "from keras.layers import Conv2D, MaxPooling2D\n",
    "from keras.optimizers import SGD\n",
    "\n",
    "# Generate dummy data\n",
    "x_train = np.random.random((100, 100, 100, 3))\n",
    "y_train = keras.utils.to_categorical(np.random.randint(10, size=(100, 1)), num_classes=10)\n",
    "x_test = np.random.random((20, 100, 100, 3))\n",
    "y_test = keras.utils.to_categorical(np.random.randint(10, size=(20, 1)), num_classes=10)\n",
    "\n",
    "model = Sequential()\n",
    "# input: 100x100 images with 3 channels -> (100, 100, 3) tensors.\n",
    "# this applies 32 convolution filters of size 3x3 each.\n",
    "model.add(Conv2D(32, (3, 3), activation='relu', input_shape=(100, 100, 3)))\n",
    "model.add(Conv2D(32, (3, 3), activation='relu'))\n",
    "model.add(MaxPooling2D(pool_size=(2, 2)))\n",
    "model.add(Dropout(0.25))\n",
    "\n",
    "model.add(Conv2D(64, (3, 3), activation='relu'))\n",
    "model.add(Conv2D(64, (3, 3), activation='relu'))\n",
    "model.add(MaxPooling2D(pool_size=(2, 2)))\n",
    "model.add(Dropout(0.25))\n",
    "\n",
    "model.add(Flatten())\n",
    "model.add(Dense(256, activation='relu'))\n",
    "model.add(Dropout(0.5))\n",
    "model.add(Dense(10, activation='softmax'))\n",
    "\n",
    "sgd = SGD(lr=0.01, decay=1e-6, momentum=0.9, nesterov=True)\n",
    "model.compile(loss='categorical_crossentropy', optimizer=sgd)\n",
    "\n",
    "model.fit(x_train, y_train, batch_size=32, epochs=10)\n",
    "score = model.evaluate(x_test, y_test, batch_size=32)"
   ]
  },
  {
   "cell_type": "code",
   "execution_count": null,
   "metadata": {
    "collapsed": true
   },
   "outputs": [],
   "source": []
  }
 ],
 "metadata": {
  "kernelspec": {
   "display_name": "Python 2",
   "language": "python",
   "name": "python2"
  },
  "language_info": {
   "codemirror_mode": {
    "name": "ipython",
    "version": 2
   },
   "file_extension": ".py",
   "mimetype": "text/x-python",
   "name": "python",
   "nbconvert_exporter": "python",
   "pygments_lexer": "ipython2",
   "version": "2.7.13"
  }
 },
 "nbformat": 4,
 "nbformat_minor": 2
}
