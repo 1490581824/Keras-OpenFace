{
 "cells": [
  {
   "cell_type": "code",
   "execution_count": 1,
   "metadata": {
    "collapsed": false
   },
   "outputs": [],
   "source": [
    "import coremltools\n",
    "%load_ext autoreload\n",
    "%autoreload 2"
   ]
  },
  {
   "cell_type": "code",
   "execution_count": 2,
   "metadata": {
    "collapsed": false
   },
   "outputs": [
    {
     "name": "stderr",
     "output_type": "stream",
     "text": [
      "/Users/victor_sy_wang/anaconda/lib/python2.7/site-packages/keras/models.py:245: UserWarning: No training configuration found in save file: the model was *not* compiled. Compile it manually.\n",
      "  warnings.warn('No training configuration found in save file: '\n"
     ]
    }
   ],
   "source": [
    "from keras.models import load_model\n",
    "model = load_model('./model/nn4.small2.v5.h5')"
   ]
  },
  {
   "cell_type": "code",
   "execution_count": 10,
   "metadata": {
    "collapsed": false
   },
   "outputs": [
    {
     "data": {
      "text/plain": [
       "[<keras.layers.convolutional.ZeroPadding2D at 0x117373ed0>,\n",
       " <keras.layers.convolutional.Conv2D at 0x117373f90>,\n",
       " <keras.layers.normalization.BatchNormalization at 0x1174c35d0>,\n",
       " <keras.layers.core.Activation at 0x11762c310>,\n",
       " <keras.layers.convolutional.ZeroPadding2D at 0x1175ee410>,\n",
       " <keras.layers.pooling.MaxPooling2D at 0x117669e10>,\n",
       " <keras.layers.convolutional.Conv2D at 0x1174f4c50>,\n",
       " <keras.layers.normalization.BatchNormalization at 0x1176c9bd0>,\n",
       " <keras.layers.core.Activation at 0x11767a650>,\n",
       " <keras.layers.convolutional.ZeroPadding2D at 0x1177c0e90>,\n",
       " <keras.layers.convolutional.Conv2D at 0x1177ee550>,\n",
       " <keras.layers.normalization.BatchNormalization at 0x11773bc10>,\n",
       " <keras.layers.core.Activation at 0x1178de3d0>,\n",
       " <keras.layers.convolutional.ZeroPadding2D at 0x11786c5d0>,\n",
       " <keras.layers.pooling.MaxPooling2D at 0x1179907d0>]"
      ]
     },
     "execution_count": 10,
     "metadata": {},
     "output_type": "execute_result"
    }
   ],
   "source": [
    "model.layers[1].layers"
   ]
  },
  {
   "cell_type": "code",
   "execution_count": 3,
   "metadata": {
    "collapsed": false
   },
   "outputs": [
    {
     "ename": "AttributeError",
     "evalue": "'module' object has no attribute 'keras2'",
     "output_type": "error",
     "traceback": [
      "\u001b[0;31m---------------------------------------------------------------------------\u001b[0m",
      "\u001b[0;31mAttributeError\u001b[0m                            Traceback (most recent call last)",
      "\u001b[0;32m<ipython-input-3-9728ea4b9107>\u001b[0m in \u001b[0;36m<module>\u001b[0;34m()\u001b[0m\n\u001b[0;32m----> 1\u001b[0;31m \u001b[0mcoreml_model2\u001b[0m \u001b[0;34m=\u001b[0m \u001b[0mcoremltools\u001b[0m\u001b[0;34m.\u001b[0m\u001b[0mconverters\u001b[0m\u001b[0;34m.\u001b[0m\u001b[0mkeras2\u001b[0m\u001b[0;34m.\u001b[0m\u001b[0mconvert\u001b[0m\u001b[0;34m(\u001b[0m\u001b[0mmodel\u001b[0m\u001b[0;34m)\u001b[0m\u001b[0;34m\u001b[0m\u001b[0m\n\u001b[0m",
      "\u001b[0;31mAttributeError\u001b[0m: 'module' object has no attribute 'keras2'"
     ]
    }
   ],
   "source": [
    "coreml_model2 = coremltools.converters.keras2.convert(model)"
   ]
  },
  {
   "cell_type": "code",
   "execution_count": 19,
   "metadata": {
    "collapsed": false
   },
   "outputs": [
    {
     "name": "stdout",
     "output_type": "stream",
     "text": [
      "fuck keras2\n",
      "0 : input_2, <keras.engine.topology.InputLayer object at 0x11d8c35d0>\n",
      "1 : zero_padding2d_6, <keras.layers.convolutional.ZeroPadding2D object at 0x11d8c3d90>\n",
      "2 : conv1, <keras.layers.convolutional.Conv2D object at 0x11d8c3e90>\n",
      "3 : conv1_permute_bn1, <keras.layers.core.Permute object at 0x12174a310>\n",
      "4 : bn1, <keras.layers.normalization.BatchNormalization object at 0x11d8c37d0>\n",
      "5 : bn1_permute_activation_6, <keras.layers.core.Permute object at 0x12174a650>\n",
      "6 : activation_6, <keras.layers.core.Activation object at 0x11d8c3f10>\n",
      "7 : zero_padding2d_7, <keras.layers.convolutional.ZeroPadding2D object at 0x1090efb90>\n",
      "8 : max_pooling2d_3, <keras.layers.pooling.MaxPooling2D object at 0x11da22910>\n",
      "9 : conv2, <keras.layers.convolutional.Conv2D object at 0x11db14b50>\n",
      "10 : conv2_permute_bn2, <keras.layers.core.Permute object at 0x12174a290>\n",
      "11 : bn2, <keras.layers.normalization.BatchNormalization object at 0x11db41750>\n",
      "12 : bn2_permute_activation_7, <keras.layers.core.Permute object at 0x12174af50>\n",
      "13 : activation_7, <keras.layers.core.Activation object at 0x11dbefa50>\n",
      "14 : zero_padding2d_8, <keras.layers.convolutional.ZeroPadding2D object at 0x11dd1a590>\n",
      "15 : conv3, <keras.layers.convolutional.Conv2D object at 0x11dbaded0>\n",
      "16 : conv3_permute_bn3, <keras.layers.core.Permute object at 0x12174a610>\n",
      "17 : bn3, <keras.layers.normalization.BatchNormalization object at 0x11dc69fd0>\n",
      "18 : bn3_permute_activation_8, <keras.layers.core.Permute object at 0x12174ae50>\n",
      "19 : activation_8, <keras.layers.core.Activation object at 0x11dd09910>\n",
      "20 : zero_padding2d_9, <keras.layers.convolutional.ZeroPadding2D object at 0x11de73550>\n",
      "21 : max_pooling2d_4, <keras.layers.pooling.MaxPooling2D object at 0x11dd951d0>\n",
      "22 : inception_3a_3x3_conv1, <keras.layers.convolutional.Conv2D object at 0x11dee1750>\n",
      "23 : inception_3a_5x5_conv1, <keras.layers.convolutional.Conv2D object at 0x11def1d50>\n",
      "24 : inception_3a_3x3_conv1_permute_inception_3a_3x3_bn1, <keras.layers.core.Permute object at 0x12174ad10>\n",
      "25 : inception_3a_3x3_bn1, <keras.layers.normalization.BatchNormalization object at 0x11df0ca50>\n",
      "26 : inception_3a_5x5_conv1_permute_inception_3a_5x5_bn1, <keras.layers.core.Permute object at 0x12174add0>\n",
      "27 : inception_3a_5x5_bn1, <keras.layers.normalization.BatchNormalization object at 0x11ddc27d0>\n",
      "28 : inception_3a_3x3_bn1_permute_activation_9, <keras.layers.core.Permute object at 0x12174a350>\n",
      "29 : activation_9, <keras.layers.core.Activation object at 0x11e048b10>\n",
      "30 : inception_3a_5x5_bn1_permute_activation_11, <keras.layers.core.Permute object at 0x12174a4d0>\n",
      "31 : activation_11, <keras.layers.core.Activation object at 0x11e084f90>\n",
      "32 : max_pooling2d_5, <keras.layers.pooling.MaxPooling2D object at 0x11e20dc50>\n",
      "33 : zero_padding2d_10, <keras.layers.convolutional.ZeroPadding2D object at 0x11e12e490>\n",
      "34 : zero_padding2d_11, <keras.layers.convolutional.ZeroPadding2D object at 0x11e0d6b50>\n",
      "35 : inception_3a_pool_conv, <keras.layers.convolutional.Conv2D object at 0x11e1b1a90>\n",
      "36 : inception_3a_3x3_conv2, <keras.layers.convolutional.Conv2D object at 0x11e1dee10>\n",
      "37 : inception_3a_5x5_conv2, <keras.layers.convolutional.Conv2D object at 0x11e27a7d0>\n",
      "38 : inception_3a_pool_conv_permute_inception_3a_pool_bn, <keras.layers.core.Permute object at 0x12174a490>\n",
      "39 : inception_3a_pool_bn, <keras.layers.normalization.BatchNormalization object at 0x11e2b8bd0>\n",
      "40 : inception_3a_1x1_conv, <keras.layers.convolutional.Conv2D object at 0x11e342ed0>\n",
      "41 : inception_3a_3x3_conv2_permute_inception_3a_3x3_bn2, <keras.layers.core.Permute object at 0x12174a150>\n",
      "42 : inception_3a_3x3_bn2, <keras.layers.normalization.BatchNormalization object at 0x11e3d1790>\n",
      "43 : inception_3a_5x5_conv2_permute_inception_3a_5x5_bn2, <keras.layers.core.Permute object at 0x12174a090>\n",
      "44 : inception_3a_5x5_bn2, <keras.layers.normalization.BatchNormalization object at 0x11e45fcd0>\n",
      "45 : inception_3a_pool_bn_permute_activation_13, <keras.layers.core.Permute object at 0x12174a1d0>\n",
      "46 : activation_13, <keras.layers.core.Activation object at 0x11e58ab10>\n",
      "47 : inception_3a_1x1_conv_permute_inception_3a_1x1_bn, <keras.layers.core.Permute object at 0x121cf1050>\n",
      "48 : inception_3a_1x1_bn, <keras.layers.normalization.BatchNormalization object at 0x11e5e89d0>\n",
      "49 : inception_3a_3x3_bn2_permute_activation_10, <keras.layers.core.Permute object at 0x122994e50>\n",
      "50 : activation_10, <keras.layers.core.Activation object at 0x11e743190>\n",
      "51 : inception_3a_5x5_bn2_permute_activation_12, <keras.layers.core.Permute object at 0x121cf1090>\n",
      "52 : activation_12, <keras.layers.core.Activation object at 0x11e8318d0>\n",
      "53 : zero_padding2d_12, <keras.layers.convolutional.ZeroPadding2D object at 0x11e824ad0>\n",
      "54 : inception_3a_1x1_bn_permute_activation_14, <keras.layers.core.Permute object at 0x121cf11d0>\n",
      "55 : activation_14, <keras.layers.core.Activation object at 0x11e7ace50>\n",
      "56 : concatenate_1, <keras.layers.merge.Concatenate object at 0x11e772990>\n",
      "('fuck you', <keras.layers.merge.Concatenate object at 0x11e772990>, [(None, 128, 12, 12), (None, 32, 12, 12), (None, 32, 12, 12), (None, 64, 12, 12)], 1)\n",
      "('fuck element', u'concatenate_1')\n",
      "57 : inception_3b_3x3_conv1, <keras.layers.convolutional.Conv2D object at 0x11e86d5d0>\n",
      "58 : inception_3b_5x5_conv1, <keras.layers.convolutional.Conv2D object at 0x11e84e950>\n",
      "59 : inception_3b_3x3_conv1_permute_inception_3b_3x3_bn1, <keras.layers.core.Permute object at 0x121cf10d0>\n",
      "60 : inception_3b_3x3_bn1, <keras.layers.normalization.BatchNormalization object at 0x11e8add10>\n",
      "61 : inception_3b_5x5_conv1_permute_inception_3b_5x5_bn1, <keras.layers.core.Permute object at 0x121cf1150>\n",
      "62 : inception_3b_5x5_bn1, <keras.layers.normalization.BatchNormalization object at 0x11e8dba90>\n",
      "63 : inception_3b_3x3_bn1_permute_activation_15, <keras.layers.core.Permute object at 0x121cf1210>\n",
      "64 : activation_15, <keras.layers.core.Activation object at 0x11ea65450>\n",
      "65 : inception_3b_5x5_bn1_permute_activation_17, <keras.layers.core.Permute object at 0x121cf1390>\n",
      "66 : activation_17, <keras.layers.core.Activation object at 0x11ebd0510>\n",
      "67 : average_pooling2d_1, <keras.layers.pooling.AveragePooling2D object at 0x11ea72d10>\n",
      "68 : zero_padding2d_13, <keras.layers.convolutional.ZeroPadding2D object at 0x11eb61910>\n",
      "69 : zero_padding2d_14, <keras.layers.convolutional.ZeroPadding2D object at 0x11e9a4f10>\n",
      "70 : inception_3b_pool_conv, <keras.layers.convolutional.Conv2D object at 0x11eaa1d10>\n",
      "71 : inception_3b_3x3_conv2, <keras.layers.convolutional.Conv2D object at 0x11ec75450>\n",
      "72 : inception_3b_5x5_conv2, <keras.layers.convolutional.Conv2D object at 0x11ec3af50>\n",
      "73 : inception_3b_pool_conv_permute_inception_3b_pool_bn, <keras.layers.core.Permute object at 0x121cf1350>\n",
      "74 : inception_3b_pool_bn, <keras.layers.normalization.BatchNormalization object at 0x11ecf5850>\n",
      "75 : inception_3b_1x1_conv, <keras.layers.convolutional.Conv2D object at 0x11ecff790>\n",
      "76 : inception_3b_3x3_conv2_permute_inception_3b_3x3_bn2, <keras.layers.core.Permute object at 0x121cf1450>\n",
      "77 : inception_3b_3x3_bn2, <keras.layers.normalization.BatchNormalization object at 0x11ee33e90>\n",
      "78 : inception_3b_5x5_conv2_permute_inception_3b_5x5_bn2, <keras.layers.core.Permute object at 0x121cf15d0>\n",
      "79 : inception_3b_5x5_bn2, <keras.layers.normalization.BatchNormalization object at 0x11eeafed0>\n",
      "80 : inception_3b_pool_bn_permute_activation_19, <keras.layers.core.Permute object at 0x121cf1490>\n",
      "81 : activation_19, <keras.layers.core.Activation object at 0x11f02a3d0>\n",
      "82 : inception_3b_1x1_conv_permute_inception_3b_1x1_bn, <keras.layers.core.Permute object at 0x121cf1590>\n",
      "83 : inception_3b_1x1_bn, <keras.layers.normalization.BatchNormalization object at 0x11f162490>\n",
      "84 : inception_3b_3x3_bn2_permute_activation_16, <keras.layers.core.Permute object at 0x121cf1610>\n",
      "85 : activation_16, <keras.layers.core.Activation object at 0x11f047990>\n",
      "86 : inception_3b_5x5_bn2_permute_activation_18, <keras.layers.core.Permute object at 0x121cf1690>\n",
      "87 : activation_18, <keras.layers.core.Activation object at 0x11f1eca10>\n",
      "88 : zero_padding2d_15, <keras.layers.convolutional.ZeroPadding2D object at 0x11f019750>\n",
      "89 : inception_3b_1x1_bn_permute_activation_20, <keras.layers.core.Permute object at 0x121cf1790>\n",
      "90 : activation_20, <keras.layers.core.Activation object at 0x11f1b0710>\n",
      "91 : concatenate_2, <keras.layers.merge.Concatenate object at 0x11f2a1a10>\n",
      "('fuck you', <keras.layers.merge.Concatenate object at 0x11f2a1a10>, [(None, 128, 12, 12), (None, 64, 12, 12), (None, 64, 12, 12), (None, 64, 12, 12)], 1)\n",
      "('fuck element', u'concatenate_2')\n",
      "92 : inception_3c_3x3_conv1, <keras.layers.convolutional.Conv2D object at 0x11f22ee90>\n",
      "93 : inception_3c_5x5_conv1, <keras.layers.convolutional.Conv2D object at 0x11f2ad510>\n",
      "94 : inception_3c_3x3_conv1_permute_inception_3c_3x3_bn1, <keras.layers.core.Permute object at 0x121cf1750>\n",
      "95 : inception_3c_3x3_bn1, <keras.layers.normalization.BatchNormalization object at 0x11f337ed0>\n",
      "96 : inception_3c_5x5_conv1_permute_inception_3c_5x5_bn1, <keras.layers.core.Permute object at 0x121cf1850>\n",
      "97 : inception_3c_5x5_bn1, <keras.layers.normalization.BatchNormalization object at 0x11f387ad0>\n",
      "98 : inception_3c_3x3_bn1_permute_activation_21, <keras.layers.core.Permute object at 0x121cf1890>\n",
      "99 : activation_21, <keras.layers.core.Activation object at 0x11f468210>\n",
      "100 : inception_3c_5x5_bn1_permute_activation_23, <keras.layers.core.Permute object at 0x121cf1990>\n",
      "101 : activation_23, <keras.layers.core.Activation object at 0x11f5de590>\n",
      "102 : zero_padding2d_16, <keras.layers.convolutional.ZeroPadding2D object at 0x11f5efe50>\n",
      "103 : zero_padding2d_17, <keras.layers.convolutional.ZeroPadding2D object at 0x11f50fed0>\n",
      "104 : inception_3c_3x3_conv2, <keras.layers.convolutional.Conv2D object at 0x11f4d7190>\n",
      "105 : inception_3c_5x5_conv2, <keras.layers.convolutional.Conv2D object at 0x11f4a7510>\n",
      "106 : inception_3c_3x3_conv2_permute_inception_3c_3x3_bn2, <keras.layers.core.Permute object at 0x121cf1950>\n",
      "107 : inception_3c_3x3_bn2, <keras.layers.normalization.BatchNormalization object at 0x11f5cfe10>\n",
      "108 : inception_3c_5x5_conv2_permute_inception_3c_5x5_bn2, <keras.layers.core.Permute object at 0x121cf1a50>\n",
      "109 : inception_3c_5x5_bn2, <keras.layers.normalization.BatchNormalization object at 0x11f6c2490>\n",
      "110 : max_pooling2d_6, <keras.layers.pooling.MaxPooling2D object at 0x11f773f10>\n",
      "111 : inception_3c_3x3_bn2_permute_activation_22, <keras.layers.core.Permute object at 0x121cf1a90>\n",
      "112 : activation_22, <keras.layers.core.Activation object at 0x11f700810>\n",
      "113 : inception_3c_5x5_bn2_permute_activation_24, <keras.layers.core.Permute object at 0x121cf1b90>\n",
      "114 : activation_24, <keras.layers.core.Activation object at 0x11f7f2f50>\n",
      "115 : zero_padding2d_18, <keras.layers.convolutional.ZeroPadding2D object at 0x11f83ec90>\n",
      "116 : concatenate_3, <keras.layers.merge.Concatenate object at 0x11f8dcc10>\n",
      "('fuck you', <keras.layers.merge.Concatenate object at 0x11f8dcc10>, [(None, 256, 6, 6), (None, 64, 6, 6), (None, 320, 6, 6)], 1)\n",
      "('fuck element', u'concatenate_3')\n",
      "117 : inception_4a_3x3_conv1, <keras.layers.convolutional.Conv2D object at 0x11f91c0d0>\n",
      "118 : inception_4a_5x5_conv1, <keras.layers.convolutional.Conv2D object at 0x11f90d490>\n",
      "119 : inception_4a_3x3_conv1_permute_inception_4a_3x3_bn1, <keras.layers.core.Permute object at 0x121cf1b50>\n",
      "120 : inception_4a_3x3_bn1, <keras.layers.normalization.BatchNormalization object at 0x11f95c9d0>\n",
      "121 : inception_4a_5x5_conv1_permute_inception_4a_5x5_bn1, <keras.layers.core.Permute object at 0x121cf1cd0>\n",
      "122 : inception_4a_5x5_bn1, <keras.layers.normalization.BatchNormalization object at 0x11f9a4d10>\n",
      "123 : inception_4a_3x3_bn1_permute_activation_25, <keras.layers.core.Permute object at 0x121cf1c90>\n",
      "124 : activation_25, <keras.layers.core.Activation object at 0x11fa328d0>\n",
      "125 : inception_4a_5x5_bn1_permute_activation_27, <keras.layers.core.Permute object at 0x1229a4bd0>\n",
      "126 : activation_27, <keras.layers.core.Activation object at 0x11fbee790>\n",
      "127 : average_pooling2d_2, <keras.layers.pooling.AveragePooling2D object at 0x11fc1ea50>\n",
      "128 : zero_padding2d_19, <keras.layers.convolutional.ZeroPadding2D object at 0x11fb1fad0>\n",
      "129 : zero_padding2d_20, <keras.layers.convolutional.ZeroPadding2D object at 0x11fc8a810>\n",
      "130 : inception_4a_pool_conv, <keras.layers.convolutional.Conv2D object at 0x11fc78c10>\n",
      "131 : inception_4a_3x3_conv2, <keras.layers.convolutional.Conv2D object at 0x11fcb4fd0>\n",
      "132 : inception_4a_5x5_conv2, <keras.layers.convolutional.Conv2D object at 0x11fce4810>\n",
      "133 : inception_4a_pool_conv_permute_inception_4a_pool_bn, <keras.layers.core.Permute object at 0x121cf1c10>\n",
      "134 : inception_4a_pool_bn, <keras.layers.normalization.BatchNormalization object at 0x11fd53490>\n",
      "135 : inception_4a_1x1_conv, <keras.layers.convolutional.Conv2D object at 0x11fd44f50>\n",
      "136 : inception_4a_3x3_conv2_permute_inception_4a_3x3_bn2, <keras.layers.core.Permute object at 0x1223e1650>\n",
      "137 : inception_4a_3x3_bn2, <keras.layers.normalization.BatchNormalization object at 0x11fedac90>\n",
      "138 : inception_4a_5x5_conv2_permute_inception_4a_5x5_bn2, <keras.layers.core.Permute object at 0x1218b9050>\n",
      "139 : inception_4a_5x5_bn2, <keras.layers.normalization.BatchNormalization object at 0x11fecce50>\n",
      "140 : inception_4a_pool_bn_permute_activation_29, <keras.layers.core.Permute object at 0x113911ad0>\n",
      "141 : activation_29, <keras.layers.core.Activation object at 0x11ff37350>\n",
      "142 : inception_4a_1x1_conv_permute_inception_4a_1x1_bn, <keras.layers.core.Permute object at 0x11d8c3710>\n",
      "143 : inception_4a_1x1_bn, <keras.layers.normalization.BatchNormalization object at 0x1200df950>\n",
      "144 : inception_4a_3x3_bn2_permute_activation_26, <keras.layers.core.Permute object at 0x12189cf50>\n",
      "145 : activation_26, <keras.layers.core.Activation object at 0x120151990>\n",
      "146 : inception_4a_5x5_bn2_permute_activation_28, <keras.layers.core.Permute object at 0x11d8c31d0>\n",
      "147 : activation_28, <keras.layers.core.Activation object at 0x12029c910>\n",
      "148 : zero_padding2d_21, <keras.layers.convolutional.ZeroPadding2D object at 0x120290b10>\n",
      "149 : inception_4a_1x1_bn_permute_activation_30, <keras.layers.core.Permute object at 0x122a98e50>\n",
      "150 : activation_30, <keras.layers.core.Activation object at 0x120216e90>\n",
      "151 : concatenate_4, <keras.layers.merge.Concatenate object at 0x1201dc9d0>\n",
      "('fuck you', <keras.layers.merge.Concatenate object at 0x1201dc9d0>, [(None, 192, 6, 6), (None, 64, 6, 6), (None, 128, 6, 6), (None, 256, 6, 6)], 1)\n",
      "('fuck element', u'concatenate_4')\n",
      "152 : inception_4e_3x3_conv1, <keras.layers.convolutional.Conv2D object at 0x1202db610>\n",
      "153 : inception_4e_5x5_conv1, <keras.layers.convolutional.Conv2D object at 0x1202ccd50>\n",
      "154 : inception_4e_3x3_conv1_permute_inception_4e_3x3_bn1, <keras.layers.core.Permute object at 0x122a98ad0>\n",
      "155 : inception_4e_3x3_bn1, <keras.layers.normalization.BatchNormalization object at 0x120364e50>\n",
      "156 : inception_4e_5x5_conv1_permute_inception_4e_5x5_bn1, <keras.layers.core.Permute object at 0x122a98910>\n",
      "157 : inception_4e_5x5_bn1, <keras.layers.normalization.BatchNormalization object at 0x1203846d0>\n",
      "158 : inception_4e_3x3_bn1_permute_activation_31, <keras.layers.core.Permute object at 0x109050890>\n",
      "159 : activation_31, <keras.layers.core.Activation object at 0x1204ce450>\n",
      "160 : inception_4e_5x5_bn1_permute_activation_33, <keras.layers.core.Permute object at 0x122172fd0>\n",
      "161 : activation_33, <keras.layers.core.Activation object at 0x120608510>\n",
      "162 : zero_padding2d_22, <keras.layers.convolutional.ZeroPadding2D object at 0x1204ded10>\n",
      "163 : zero_padding2d_23, <keras.layers.convolutional.ZeroPadding2D object at 0x12059a910>\n",
      "164 : inception_4e_3x3_conv2, <keras.layers.convolutional.Conv2D object at 0x120410f10>\n",
      "165 : inception_4e_5x5_conv2, <keras.layers.convolutional.Conv2D object at 0x1206183d0>\n",
      "166 : inception_4e_3x3_conv2_permute_inception_4e_3x3_bn2, <keras.layers.core.Permute object at 0x1219ad110>\n",
      "167 : inception_4e_3x3_bn2, <keras.layers.normalization.BatchNormalization object at 0x1205cd590>\n",
      "168 : inception_4e_5x5_conv2_permute_inception_4e_5x5_bn2, <keras.layers.core.Permute object at 0x122144dd0>\n",
      "169 : inception_4e_5x5_bn2, <keras.layers.normalization.BatchNormalization object at 0x1206574d0>\n",
      "170 : max_pooling2d_7, <keras.layers.pooling.MaxPooling2D object at 0x12081b3d0>\n",
      "171 : inception_4e_3x3_bn2_permute_activation_32, <keras.layers.core.Permute object at 0x12275ec50>\n",
      "172 : activation_32, <keras.layers.core.Activation object at 0x12082be90>\n",
      "173 : inception_4e_5x5_bn2_permute_activation_34, <keras.layers.core.Permute object at 0x121e2bcd0>\n",
      "174 : activation_34, <keras.layers.core.Activation object at 0x120927f10>\n",
      "175 : zero_padding2d_24, <keras.layers.convolutional.ZeroPadding2D object at 0x1208fed50>\n",
      "176 : concatenate_5, <keras.layers.merge.Concatenate object at 0x1208a7c10>\n",
      "('fuck you', <keras.layers.merge.Concatenate object at 0x1208a7c10>, [(None, 256, 3, 3), (None, 128, 3, 3), (None, 640, 3, 3)], 1)\n",
      "('fuck element', u'concatenate_5')\n",
      "177 : inception_5a_3x3_conv1, <keras.layers.convolutional.Conv2D object at 0x1208ccdd0>\n",
      "178 : inception_5a_3x3_conv1_permute_inception_5a_3x3_bn1, <keras.layers.core.Permute object at 0x121f9b990>\n",
      "179 : inception_5a_3x3_bn1, <keras.layers.normalization.BatchNormalization object at 0x12097b490>\n",
      "180 : inception_5a_3x3_bn1_permute_activation_35, <keras.layers.core.Permute object at 0x1093cf7d0>\n",
      "181 : activation_35, <keras.layers.core.Activation object at 0x120985d50>\n",
      "182 : average_pooling2d_3, <keras.layers.pooling.AveragePooling2D object at 0x120afe590>\n",
      "183 : zero_padding2d_25, <keras.layers.convolutional.ZeroPadding2D object at 0x120a2eed0>\n",
      "184 : inception_5a_pool_conv, <keras.layers.convolutional.Conv2D object at 0x1209fef50>\n",
      "185 : inception_5a_3x3_conv2, <keras.layers.convolutional.Conv2D object at 0x120b1ad90>\n",
      "186 : inception_5a_pool_conv_permute_inception_5a_pool_bn, <keras.layers.core.Permute object at 0x121e2b810>\n",
      "187 : inception_5a_pool_bn, <keras.layers.normalization.BatchNormalization object at 0x120b94510>\n",
      "188 : inception_5a_1x1_conv, <keras.layers.convolutional.Conv2D object at 0x120b84410>\n",
      "189 : inception_5a_3x3_conv2_permute_inception_5a_3x3_bn2, <keras.layers.core.Permute object at 0x1223eff10>\n",
      "190 : inception_5a_3x3_bn2, <keras.layers.normalization.BatchNormalization object at 0x120d03390>\n",
      "191 : inception_5a_pool_bn_permute_activation_37, <keras.layers.core.Permute object at 0x1223efdd0>\n",
      "192 : activation_37, <keras.layers.core.Activation object at 0x120d42fd0>\n",
      "193 : inception_5a_1x1_conv_permute_inception_5a_1x1_bn, <keras.layers.core.Permute object at 0x122162ad0>\n",
      "194 : inception_5a_1x1_bn, <keras.layers.normalization.BatchNormalization object at 0x120dd9d90>\n",
      "195 : inception_5a_3x3_bn2_permute_activation_36, <keras.layers.core.Permute object at 0x1221628d0>\n",
      "196 : activation_36, <keras.layers.core.Activation object at 0x120ebbc90>\n",
      "197 : zero_padding2d_26, <keras.layers.convolutional.ZeroPadding2D object at 0x120f45dd0>\n",
      "198 : inception_5a_1x1_bn_permute_activation_38, <keras.layers.core.Permute object at 0x12247cd10>\n",
      "199 : activation_38, <keras.layers.core.Activation object at 0x120dc9350>\n",
      "200 : concatenate_6, <keras.layers.merge.Concatenate object at 0x120ee7410>\n",
      "('fuck you', <keras.layers.merge.Concatenate object at 0x120ee7410>, [(None, 384, 3, 3), (None, 96, 3, 3), (None, 256, 3, 3)], 1)\n",
      "('fuck element', u'concatenate_6')\n",
      "201 : inception_5b_3x3_conv1, <keras.layers.convolutional.Conv2D object at 0x1210078d0>\n",
      "202 : inception_5b_3x3_conv1_permute_inception_5b_3x3_bn1, <keras.layers.core.Permute object at 0x12247ca50>\n",
      "203 : inception_5b_3x3_bn1, <keras.layers.normalization.BatchNormalization object at 0x120f8ccd0>\n",
      "204 : inception_5b_3x3_bn1_permute_activation_39, <keras.layers.core.Permute object at 0x1217422d0>\n",
      "205 : activation_39, <keras.layers.core.Activation object at 0x120ff5550>\n",
      "206 : max_pooling2d_8, <keras.layers.pooling.MaxPooling2D object at 0x12118e9d0>\n",
      "207 : zero_padding2d_27, <keras.layers.convolutional.ZeroPadding2D object at 0x1210416d0>\n",
      "208 : inception_5b_pool_conv, <keras.layers.convolutional.Conv2D object at 0x12115de90>\n",
      "209 : inception_5b_3x3_conv2, <keras.layers.convolutional.Conv2D object at 0x12117dd50>\n",
      "210 : inception_5b_pool_conv_permute_inception_5b_pool_bn, <keras.layers.core.Permute object at 0x12248d9d0>\n",
      "211 : inception_5b_pool_bn, <keras.layers.normalization.BatchNormalization object at 0x1211e8e90>\n",
      "212 : inception_5b_1x1_conv, <keras.layers.convolutional.Conv2D object at 0x1211bbd10>\n",
      "213 : inception_5b_3x3_conv2_permute_inception_5b_3x3_bn2, <keras.layers.core.Permute object at 0x121742410>\n",
      "214 : inception_5b_3x3_bn2, <keras.layers.normalization.BatchNormalization object at 0x121391dd0>\n",
      "215 : inception_5b_pool_bn_permute_activation_41, <keras.layers.core.Permute object at 0x1217424d0>\n",
      "216 : activation_41, <keras.layers.core.Activation object at 0x121380c90>\n",
      "217 : inception_5b_1x1_conv_permute_inception_5b_1x1_bn, <keras.layers.core.Permute object at 0x121742790>\n",
      "218 : inception_5b_1x1_bn, <keras.layers.normalization.BatchNormalization object at 0x121487d90>\n",
      "219 : inception_5b_3x3_bn2_permute_activation_40, <keras.layers.core.Permute object at 0x121742490>\n",
      "220 : activation_40, <keras.layers.core.Activation object at 0x12152bc10>\n",
      "221 : zero_padding2d_28, <keras.layers.convolutional.ZeroPadding2D object at 0x121674a90>\n",
      "222 : inception_5b_1x1_bn_permute_activation_42, <keras.layers.core.Permute object at 0x121742390>\n",
      "223 : activation_42, <keras.layers.core.Activation object at 0x121507b50>\n",
      "224 : concatenate_7, <keras.layers.merge.Concatenate object at 0x121684090>\n",
      "('fuck you', <keras.layers.merge.Concatenate object at 0x121684090>, [(None, 384, 3, 3), (None, 96, 3, 3), (None, 256, 3, 3)], 1)\n",
      "('fuck element', u'concatenate_7')\n",
      "225 : average_pooling2d_4, <keras.layers.pooling.AveragePooling2D object at 0x121635fd0>\n",
      "226 : flatten_1, <keras.layers.core.Flatten object at 0x121665f10>\n",
      "227 : dense_layer, <keras.layers.core.Dense object at 0x121693990>\n"
     ]
    }
   ],
   "source": [
    "coreml_model = coremltools.converters.keras.convert(model)"
   ]
  },
  {
   "cell_type": "code",
   "execution_count": 5,
   "metadata": {
    "collapsed": false
   },
   "outputs": [
    {
     "name": "stdout",
     "output_type": "stream",
     "text": [
      "input {\n",
      "  name: \"input1\"\n",
      "  type {\n",
      "    multiArrayType {\n",
      "      shape: 96\n",
      "      shape: 3\n",
      "      shape: 96\n",
      "      dataType: DOUBLE\n",
      "    }\n",
      "  }\n",
      "}\n",
      "output {\n",
      "  name: \"output1\"\n",
      "  type {\n",
      "    multiArrayType {\n",
      "      shape: 128\n",
      "      dataType: DOUBLE\n",
      "    }\n",
      "  }\n",
      "}\n",
      "\n"
     ]
    }
   ],
   "source": [
    "print coreml_model"
   ]
  },
  {
   "cell_type": "code",
   "execution_count": 11,
   "metadata": {
    "collapsed": false
   },
   "outputs": [
    {
     "ename": "Exception",
     "evalue": "Model prediction is only supported on macOS version 10.13.",
     "output_type": "error",
     "traceback": [
      "\u001b[0;31m---------------------------------------------------------------------------\u001b[0m",
      "\u001b[0;31mException\u001b[0m                                 Traceback (most recent call last)",
      "\u001b[0;32m<ipython-input-11-25ded8ab9d94>\u001b[0m in \u001b[0;36m<module>\u001b[0;34m()\u001b[0m\n\u001b[1;32m      7\u001b[0m \u001b[0;34m\u001b[0m\u001b[0m\n\u001b[1;32m      8\u001b[0m \u001b[0mx_train\u001b[0m \u001b[0;34m=\u001b[0m \u001b[0mnp\u001b[0m\u001b[0;34m.\u001b[0m\u001b[0marray\u001b[0m\u001b[0;34m(\u001b[0m\u001b[0;34m[\u001b[0m\u001b[0mimg\u001b[0m\u001b[0;34m]\u001b[0m\u001b[0;34m)\u001b[0m\u001b[0;34m\u001b[0m\u001b[0m\n\u001b[0;32m----> 9\u001b[0;31m \u001b[0my\u001b[0m \u001b[0;34m=\u001b[0m \u001b[0mcoreml_model\u001b[0m\u001b[0;34m.\u001b[0m\u001b[0mpredict\u001b[0m\u001b[0;34m(\u001b[0m\u001b[0;34m{\u001b[0m\u001b[0;34m'inpu1'\u001b[0m\u001b[0;34m:\u001b[0m \u001b[0mx_train\u001b[0m\u001b[0;34m}\u001b[0m\u001b[0;34m)\u001b[0m\u001b[0;34m\u001b[0m\u001b[0m\n\u001b[0m\u001b[1;32m     10\u001b[0m \u001b[0;32mprint\u001b[0m \u001b[0my\u001b[0m\u001b[0;34m\u001b[0m\u001b[0m\n",
      "\u001b[0;32m/Users/victor_sy_wang/anaconda/lib/python2.7/site-packages/coremltools/models/model.pyc\u001b[0m in \u001b[0;36mpredict\u001b[0;34m(self, data, useCPUOnly, **kwargs)\u001b[0m\n\u001b[1;32m    242\u001b[0m         \u001b[0;32melse\u001b[0m\u001b[0;34m:\u001b[0m\u001b[0;34m\u001b[0m\u001b[0m\n\u001b[1;32m    243\u001b[0m             \u001b[0;32mif\u001b[0m \u001b[0m_sys\u001b[0m\u001b[0;34m.\u001b[0m\u001b[0mplatform\u001b[0m \u001b[0;34m!=\u001b[0m \u001b[0;34m'darwin'\u001b[0m \u001b[0;32mor\u001b[0m \u001b[0mfloat\u001b[0m\u001b[0;34m(\u001b[0m\u001b[0;34m'.'\u001b[0m\u001b[0;34m.\u001b[0m\u001b[0mjoin\u001b[0m\u001b[0;34m(\u001b[0m\u001b[0m_platform\u001b[0m\u001b[0;34m.\u001b[0m\u001b[0mmac_ver\u001b[0m\u001b[0;34m(\u001b[0m\u001b[0;34m)\u001b[0m\u001b[0;34m[\u001b[0m\u001b[0;36m0\u001b[0m\u001b[0;34m]\u001b[0m\u001b[0;34m.\u001b[0m\u001b[0msplit\u001b[0m\u001b[0;34m(\u001b[0m\u001b[0;34m'.'\u001b[0m\u001b[0;34m)\u001b[0m\u001b[0;34m[\u001b[0m\u001b[0;34m:\u001b[0m\u001b[0;36m2\u001b[0m\u001b[0;34m]\u001b[0m\u001b[0;34m)\u001b[0m\u001b[0;34m)\u001b[0m \u001b[0;34m<\u001b[0m \u001b[0;36m10.13\u001b[0m\u001b[0;34m:\u001b[0m\u001b[0;34m\u001b[0m\u001b[0m\n\u001b[0;32m--> 244\u001b[0;31m                 \u001b[0;32mraise\u001b[0m \u001b[0mException\u001b[0m\u001b[0;34m(\u001b[0m\u001b[0;34m'Model prediction is only supported on macOS version 10.13.'\u001b[0m\u001b[0;34m)\u001b[0m\u001b[0;34m\u001b[0m\u001b[0m\n\u001b[0m\u001b[1;32m    245\u001b[0m             \u001b[0;32melse\u001b[0m\u001b[0;34m:\u001b[0m\u001b[0;34m\u001b[0m\u001b[0m\n\u001b[1;32m    246\u001b[0m                 \u001b[0;32mraise\u001b[0m \u001b[0mException\u001b[0m\u001b[0;34m(\u001b[0m\u001b[0;34m'Unable to load CoreML.framework. Cannot make predictions.'\u001b[0m\u001b[0;34m)\u001b[0m\u001b[0;34m\u001b[0m\u001b[0m\n",
      "\u001b[0;31mException\u001b[0m: Model prediction is only supported on macOS version 10.13."
     ]
    }
   ],
   "source": [
    "# Read a sample image as input to test the model\n",
    "import cv2\n",
    "import numpy as np\n",
    "img = cv2.imread('./data/dlib-affine-sz/Aaron_Eckhart/Aaron_Eckhart_0001.png', 1)\n",
    "img = img[...,::-1]\n",
    "img = np.around(np.transpose(img, (2,0,1))/255.0, decimals=12)\n",
    "\n",
    "x_train = np.array([img])\n",
    "y = coreml_model.predict({'inpu1': x_train})\n",
    "print y"
   ]
  },
  {
   "cell_type": "code",
   "execution_count": null,
   "metadata": {
    "collapsed": true
   },
   "outputs": [],
   "source": []
  }
 ],
 "metadata": {
  "kernelspec": {
   "display_name": "Python 2",
   "language": "python",
   "name": "python2"
  },
  "language_info": {
   "codemirror_mode": {
    "name": "ipython",
    "version": 2
   },
   "file_extension": ".py",
   "mimetype": "text/x-python",
   "name": "python",
   "nbconvert_exporter": "python",
   "pygments_lexer": "ipython2",
   "version": "2.7.13"
  }
 },
 "nbformat": 4,
 "nbformat_minor": 2
}
