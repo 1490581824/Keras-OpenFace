{
 "cells": [
  {
   "cell_type": "code",
   "execution_count": 12,
   "metadata": {
    "collapsed": false
   },
   "outputs": [],
   "source": [
    "from keras.models import load_model\n",
    "from keras.utils import CustomObjectScope\n",
    "\n",
    "# from keras.utils import CustomObjectScope\n",
    "# with CustomObjectScope({'LRN2D1': LRN2D, 'LRN2D2': LRN2D}):\n",
    "#     model = load_model('./model/nn4.small2.v1.h5')\n",
    "\n",
    "# with CustomObjectScope({'tf': tf}):\n",
    "#   model = load_model('./model/nn4.small2.v1.h5')\n",
    "model = load_model('./model/nn4.small2.v2.h5')\n"
   ]
  },
  {
   "cell_type": "code",
   "execution_count": 2,
   "metadata": {
    "collapsed": true
   },
   "outputs": [],
   "source": [
    "import lfw\n",
    "import os\n",
    "import numpy as np\n",
    "import math\n",
    "import facenet\n",
    "import time\n",
    "import tensorflow as tf\n",
    "\n",
    "lfw_pairs='data/pairs.txt'\n",
    "lfw_dir='data/dlib-affine-sz'\n",
    "lfw_file_ext='png'\n",
    "lfw_nrof_folds=10\n",
    "image_size=96\n",
    "batch_size=100"
   ]
  },
  {
   "cell_type": "code",
   "execution_count": 7,
   "metadata": {
    "collapsed": false
   },
   "outputs": [
    {
     "name": "stdout",
     "output_type": "stream",
     "text": [
      "Skipped 45 image pairs\n"
     ]
    }
   ],
   "source": [
    "# Read the file containing the pairs used for testing\n",
    "pairs = lfw.read_pairs(os.path.expanduser(lfw_pairs))\n",
    "\n",
    "# Get the paths for the corresponding images\n",
    "paths, actual_issame = lfw.get_paths(os.path.expanduser(lfw_dir), pairs, lfw_file_ext)\n",
    "\n",
    "embedding_size=128\n",
    "nrof_images = len(paths)\n",
    "nrof_batches = int(math.ceil(1.0*nrof_images / batch_size))\n",
    "emb_array = np.zeros((nrof_images, embedding_size))\n",
    "\n",
    "# print paths\n",
    "\n",
    "# for i in range(nrof_batches):\n",
    "#   start_index = i*batch_size\n",
    "#   end_index = min((i+1)*batch_size, nrof_images)\n",
    "#   paths_batch = paths[start_index:end_index]\n",
    "#   images = facenet.load_data(paths_batch, False, False, image_size)\n",
    "#   images = np.transpose(images, (0,3,1,2))\n",
    "  \n",
    "#   t0 = time.time()\n",
    "#   y = model.predict_on_batch(images)\n",
    "#   emb_array[start_index:end_index,:] = y\n",
    "#   print('y', y)\n",
    "#   print('emb', emb_array[start_index:end_index,:])\n",
    "#   t1 = time.time()\n",
    "  \n",
    "#   print('batch: ', i, ' time: ', t1-t0)\n",
    "  \n",
    "#   feed_dict = { images_placeholder:images, phase_train_placeholder:False }\n",
    "#   emb_array[start_index:end_index,:] = sess.run(embeddings, feed_dict=feed_dict)"
   ]
  },
  {
   "cell_type": "code",
   "execution_count": 53,
   "metadata": {
    "collapsed": false
   },
   "outputs": [],
   "source": [
    "np.savetxt(\"emb_array2.csv\", emb_array, delimiter=\",\")"
   ]
  },
  {
   "cell_type": "code",
   "execution_count": 9,
   "metadata": {
    "collapsed": false
   },
   "outputs": [],
   "source": [
    "emb_array = np.genfromtxt(\"/Users/victor_sy_wang/Developer/ML/keras-facenet/emb_array.csv\", delimiter=\",\")"
   ]
  },
  {
   "cell_type": "code",
   "execution_count": 10,
   "metadata": {
    "collapsed": false
   },
   "outputs": [
    {
     "name": "stdout",
     "output_type": "stream",
     "text": [
      "Accuracy: 0.938+-0.013\n",
      "Validation rate: 0.47469+-0.04312 @ FAR=0.00134\n",
      "Area Under Curve (AUC): 0.979\n",
      "Equal Error Rate (EER): 0.062\n"
     ]
    }
   ],
   "source": [
    "from sklearn import metrics\n",
    "from scipy.optimize import brentq\n",
    "from scipy import interpolate\n",
    "\n",
    "tpr, fpr, accuracy, val, val_std, far = lfw.evaluate(emb_array, \n",
    "                actual_issame, nrof_folds=lfw_nrof_folds)\n",
    "\n",
    "print('Accuracy: %1.3f+-%1.3f' % (np.mean(accuracy), np.std(accuracy)))\n",
    "print('Validation rate: %2.5f+-%2.5f @ FAR=%2.5f' % (val, val_std, far))\n",
    "auc = metrics.auc(fpr, tpr)\n",
    "print('Area Under Curve (AUC): %1.3f' % auc)\n",
    "eer = brentq(lambda x: 1. - x - interpolate.interp1d(fpr, tpr)(x), 0., 1.)\n",
    "print('Equal Error Rate (EER): %1.3f' % eer)"
   ]
  },
  {
   "cell_type": "code",
   "execution_count": null,
   "metadata": {
    "collapsed": true
   },
   "outputs": [],
   "source": []
  }
 ],
 "metadata": {
  "kernelspec": {
   "display_name": "Python 2",
   "language": "python",
   "name": "python2"
  },
  "language_info": {
   "codemirror_mode": {
    "name": "ipython",
    "version": 2
   },
   "file_extension": ".py",
   "mimetype": "text/x-python",
   "name": "python",
   "nbconvert_exporter": "python",
   "pygments_lexer": "ipython2",
   "version": "2.7.13"
  }
 },
 "nbformat": 4,
 "nbformat_minor": 2
}
