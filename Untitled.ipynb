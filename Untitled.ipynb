{
 "cells": [
  {
   "cell_type": "code",
   "execution_count": 116,
   "metadata": {
    "collapsed": false
   },
   "outputs": [],
   "source": [
    "from keras.models import Sequential\n",
    "from keras.layers import Conv2D, ZeroPadding2D, Activation, Input, concatenate\n",
    "from keras.models import Model\n",
    "from keras.layers.normalization import BatchNormalization\n",
    "from keras.layers.pooling import MaxPooling2D\n",
    "from keras.layers.merge import Concatenate\n",
    "from keras.engine.topology import Layer\n",
    "import cv2\n",
    "import os\n",
    "import numpy as np\n",
    "from numpy import genfromtxt\n",
    "import pandas as pd\n",
    "import tensorflow as tf\n",
    "import utils as K\n",
    "\n",
    "np.set_printoptions(threshold=np.nan)\n",
    "\n",
    "dirPath = '/Users/victor_sy_wang/Developer/ML/openface/models/openface/weights'\n",
    "fileNames = filter(lambda f: not f.startswith('.'), os.listdir(dirPath))\n",
    "paths = {}\n",
    "for n in fileNames:\n",
    "  paths[n.replace('.csv', '')] = dirPath + '/' + n\n",
    "\n",
    "img = cv2.imread('/Users/victor_sy_wang/Developer/ML/openface/data/lfw/dlib-affine-sz/Aaron_Eckhart/Aaron_Eckhart_0001.png', 1)\n",
    "img = img[...,::-1]\n",
    "img = np.around(np.transpose(img, (2,0,1))/255.0, decimals=12)"
   ]
  },
  {
   "cell_type": "code",
   "execution_count": 122,
   "metadata": {
    "collapsed": false
   },
   "outputs": [],
   "source": [
    "l1_w = genfromtxt(paths['l1_w'], delimiter=',', dtype=None)\n",
    "l1_w = l1_w.reshape(64, 147).reshape(64, 3, 7, 7)\n",
    "l1_w = np.transpose(l1_w, (2, 3, 1, 0))\n",
    "l1_b = genfromtxt(paths['l1_b'], delimiter=',', dtype=None)\n",
    "l1 = [l1_w, l1_b]\n",
    "\n",
    "\n",
    "l2_w = genfromtxt(paths['l2_w'], delimiter=',', dtype=None)\n",
    "l2_b = genfromtxt(paths['l2_b'], delimiter=',', dtype=None)\n",
    "l2_m = genfromtxt(paths['l2_m'], delimiter=',', dtype=None)\n",
    "l2_v = genfromtxt(paths['l2_v'], delimiter=',', dtype=None)\n",
    "l2 = [l2_w, l2_b, l2_m, l2_v]\n",
    "\n",
    "l6_w = genfromtxt(paths['l6_w'], delimiter=',', dtype=None)\n",
    "l6_w = l6_w.reshape(64, 64).reshape(64, 64, 1, 1)\n",
    "l6_w = np.transpose(l6_w, (2, 3, 1, 0))\n",
    "l6_b = genfromtxt(paths['l6_b'], delimiter=',', dtype=None)\n",
    "l6 = [l6_w, l6_b]\n",
    "\n",
    "l7_w = genfromtxt(paths['l7_w'], delimiter=',', dtype=None)\n",
    "l7_b = genfromtxt(paths['l7_b'], delimiter=',', dtype=None)\n",
    "l7_m = genfromtxt(paths['l7_m'], delimiter=',', dtype=None)\n",
    "l7_v = genfromtxt(paths['l7_v'], delimiter=',', dtype=None)\n",
    "l7 = [l7_w, l7_b, l7_m, l7_v]\n",
    "\n",
    "l9_w = genfromtxt(paths['l9_w'], delimiter=',', dtype=None)\n",
    "l9_w = l9_w.reshape(192, 576).reshape(192, 64, 3, 3)\n",
    "l9_w = np.transpose(l9_w, (2, 3, 1, 0))\n",
    "l9_b = genfromtxt(paths['l9_b'], delimiter=',', dtype=None)\n",
    "l9 = [l9_w, l9_b]\n",
    "\n",
    "l10_w = genfromtxt(paths['l10_w'], delimiter=',', dtype=None)\n",
    "l10_b = genfromtxt(paths['l10_b'], delimiter=',', dtype=None)\n",
    "l10_m = genfromtxt(paths['l10_m'], delimiter=',', dtype=None)\n",
    "l10_v = genfromtxt(paths['l10_v'], delimiter=',', dtype=None)\n",
    "l10 = [l10_w, l10_b, l10_m, l10_v]\n",
    "\n",
    "inception_3a_1x1_conv_w = genfromtxt(paths['inception_3a_1x1_conv_w'], delimiter=',', dtype=None)\n",
    "inception_3a_1x1_conv_w = inception_3a_1x1_conv_w.reshape(64, 192, 1, 1)\n",
    "inception_3a_1x1_conv_w = np.transpose(inception_3a_1x1_conv_w, (2, 3, 1, 0))\n",
    "inception_3a_1x1_conv_b = genfromtxt(paths['inception_3a_1x1_conv_b'], delimiter=',', dtype=None)\n",
    "inception_3a_1x1_conv = [inception_3a_1x1_conv_w, inception_3a_1x1_conv_b]\n",
    "\n",
    "inception_3a_1x1_batchnorm_w = genfromtxt(paths['inception_3a_1x1_batchnorm_w'], delimiter=',', dtype=None)\n",
    "inception_3a_1x1_batchnorm_b = genfromtxt(paths['inception_3a_1x1_batchnorm_b'], delimiter=',', dtype=None)\n",
    "inception_3a_1x1_batchnorm_m = genfromtxt(paths['inception_3a_1x1_batchnorm_m'], delimiter=',', dtype=None)\n",
    "inception_3a_1x1_batchnorm_v = genfromtxt(paths['inception_3a_1x1_batchnorm_v'], delimiter=',', dtype=None)\n",
    "inception_3a_1x1_batchnorm = [\n",
    "  inception_3a_1x1_batchnorm_w, inception_3a_1x1_batchnorm_b,\n",
    "  inception_3a_1x1_batchnorm_m, inception_3a_1x1_batchnorm_v\n",
    "]\n",
    "\n",
    "inception_3a_pool_conv_w = genfromtxt(paths['inception_3a_pool_conv_w'], delimiter=',', dtype=None)\n",
    "inception_3a_pool_conv_w = inception_3a_pool_conv_w.reshape(32, 192, 1, 1)\n",
    "inception_3a_pool_conv_w = np.transpose(inception_3a_pool_conv_w, (2, 3, 1, 0))\n",
    "inception_3a_pool_conv_b = genfromtxt(paths['inception_3a_pool_conv_b'], delimiter=',', dtype=None)\n",
    "inception_3a_pool_conv = [inception_3a_pool_conv_w, inception_3a_pool_conv_b]\n",
    "\n",
    "inception_3a_pool_batchnorm_w = genfromtxt(paths['inception_3a_pool_batchnorm_w'], delimiter=',', dtype=None)\n",
    "inception_3a_pool_batchnorm_b = genfromtxt(paths['inception_3a_pool_batchnorm_b'], delimiter=',', dtype=None)\n",
    "inception_3a_pool_batchnorm_m = genfromtxt(paths['inception_3a_pool_batchnorm_m'], delimiter=',', dtype=None)\n",
    "inception_3a_pool_batchnorm_v = genfromtxt(paths['inception_3a_pool_batchnorm_v'], delimiter=',', dtype=None)\n",
    "inception_3a_pool_batchnorm = [\n",
    "  inception_3a_pool_batchnorm_w, inception_3a_pool_batchnorm_b,\n",
    "  inception_3a_pool_batchnorm_m, inception_3a_pool_batchnorm_v\n",
    "]\n",
    "\n",
    "inception_3a_5x5_conv1_w = genfromtxt(paths['inception_3a_5x5_conv1_w'], delimiter=',', dtype=None)\n",
    "inception_3a_5x5_conv1_w = inception_3a_5x5_conv1_w.reshape(16, 192, 1, 1)\n",
    "inception_3a_5x5_conv1_w = np.transpose(inception_3a_5x5_conv1_w, (2, 3, 1, 0))\n",
    "inception_3a_5x5_conv1_b = genfromtxt(paths['inception_3a_5x5_conv1_b'], delimiter=',', dtype=None)\n",
    "inception_3a_5x5_conv1 = [inception_3a_5x5_conv1_w, inception_3a_5x5_conv1_b]\n",
    "\n",
    "inception_3a_5x5_conv2_w = genfromtxt(paths['inception_3a_5x5_conv2_w'], delimiter=',', dtype=None)\n",
    "inception_3a_5x5_conv2_w = inception_3a_5x5_conv2_w.reshape(32, 16, 5, 5)\n",
    "inception_3a_5x5_conv2_w = np.transpose(inception_3a_5x5_conv2_w, (2, 3, 1, 0))\n",
    "inception_3a_5x5_conv2_b = genfromtxt(paths['inception_3a_5x5_conv2_b'], delimiter=',', dtype=None)\n",
    "inception_3a_5x5_conv2 = [inception_3a_5x5_conv2_w, inception_3a_5x5_conv2_b]\n",
    "\n",
    "\n",
    "inception_3a_5x5_bn1_w = genfromtxt(paths['inception_3a_5x5_bn1_w'], delimiter=',', dtype=None)\n",
    "inception_3a_5x5_bn1_b = genfromtxt(paths['inception_3a_5x5_bn1_b'], delimiter=',', dtype=None)\n",
    "inception_3a_5x5_bn1_m = genfromtxt(paths['inception_3a_5x5_bn1_m'], delimiter=',', dtype=None)\n",
    "inception_3a_5x5_bn1_v = genfromtxt(paths['inception_3a_5x5_bn1_v'], delimiter=',', dtype=None)\n",
    "inception_3a_5x5_bn1 = [\n",
    "  inception_3a_5x5_bn1_w, inception_3a_5x5_bn1_b,\n",
    "  inception_3a_5x5_bn1_m, inception_3a_5x5_bn1_v\n",
    "]\n",
    "\n",
    "inception_3a_5x5_bn2_w = genfromtxt(paths['inception_3a_5x5_bn2_w'], delimiter=',', dtype=None)\n",
    "inception_3a_5x5_bn2_b = genfromtxt(paths['inception_3a_5x5_bn2_b'], delimiter=',', dtype=None)\n",
    "inception_3a_5x5_bn2_m = genfromtxt(paths['inception_3a_5x5_bn2_m'], delimiter=',', dtype=None)\n",
    "inception_3a_5x5_bn2_v = genfromtxt(paths['inception_3a_5x5_bn2_v'], delimiter=',', dtype=None)\n",
    "inception_3a_5x5_bn2 = [\n",
    "  inception_3a_5x5_bn2_w, inception_3a_5x5_bn2_b,\n",
    "  inception_3a_5x5_bn2_m, inception_3a_5x5_bn2_v\n",
    "]"
   ]
  },
  {
   "cell_type": "code",
   "execution_count": 118,
   "metadata": {
    "collapsed": false
   },
   "outputs": [],
   "source": [
    "class LRN2D(Layer):\n",
    "  \"\"\"\n",
    "  This code is adapted from pylearn2.\n",
    "  License at: https://github.com/lisa-lab/pylearn2/blob/master/LICENSE.txt\n",
    "  \"\"\"\n",
    "\n",
    "  def __init__(self, alpha=1e-4, k=2, beta=0.75, n=5, **kwargs):\n",
    "    if n % 2 == 0:\n",
    "      raise NotImplementedError(\"LRN2D only works with odd n. n provided: \" + str(n))\n",
    "    super(LRN2D, self).__init__(**kwargs)\n",
    "    self.alpha = alpha\n",
    "    self.k = k\n",
    "    self.beta = beta\n",
    "    self.n = n\n",
    "\n",
    "  def get_output(self, train):\n",
    "    X = self.get_input(train)\n",
    "    b, ch, r, c = K.shape(X)\n",
    "    half_n = self.n // 2\n",
    "    input_sqr = K.square(X)\n",
    "    extra_channels = K.zeros((b, ch + 2 * half_n, r, c))\n",
    "    input_sqr = K.concatenate([extra_channels[:, :half_n, :, :],\n",
    "                               input_sqr,\n",
    "                               extra_channels[:, half_n + ch:, :, :]],\n",
    "                              axis=1)\n",
    "    scale = self.k\n",
    "    for i in range(self.n):\n",
    "      scale += self.alpha * input_sqr[:, i:i + ch, :, :]\n",
    "    scale = scale ** self.beta\n",
    "    return X / scale\n",
    "\n",
    "  def get_config(self):\n",
    "    config = {\"name\": self.__class__.__name__,\n",
    "              \"alpha\": self.alpha,\n",
    "              \"k\": self.k,\n",
    "              \"beta\": self.beta,\n",
    "              \"n\": self.n}\n",
    "    base_config = super(LRN2D, self).get_config()\n",
    "    return dict(list(base_config.items()) + list(config.items()))"
   ]
  },
  {
   "cell_type": "code",
   "execution_count": 151,
   "metadata": {
    "collapsed": false
   },
   "outputs": [],
   "source": [
    "model = Sequential()\n",
    "model.add(ZeroPadding2D(padding=(3, 3), input_shape=(3, 96, 96), data_format='channels_first'))\n",
    "model.add(Conv2D(64, (7, 7), strides=(2, 2), data_format='channels_first'))\n",
    "model.add(BatchNormalization(axis=1, epsilon=0.00001))\n",
    "model.add(Activation('relu'))\n",
    "model.add(ZeroPadding2D(padding=(1, 1), data_format='channels_first'))\n",
    "model.add(MaxPooling2D(pool_size=3, strides=2, data_format='channels_first'))\n",
    "model.add(LRN2D())\n",
    "\n",
    "#8 => Inception2, torch layer6\n",
    "model.add(Conv2D(64, (1, 1), data_format='channels_first'))\n",
    "model.add(BatchNormalization(axis=1, epsilon=0.00001))\n",
    "model.add(Activation('relu'))\n",
    "model.add(ZeroPadding2D(padding=(1, 1), data_format='channels_first'))\n",
    "model.add(Conv2D(192, (3, 3), data_format='channels_first'))\n",
    "model.add(BatchNormalization(axis=1, epsilon=0.00001))\n",
    "model.add(Activation('relu'))\n",
    "model.add(LRN2D())\n",
    "model.add(ZeroPadding2D(padding=(1, 1), data_format='channels_first'))\n",
    "model.add(MaxPooling2D(pool_size=3, strides=2, data_format='channels_first'))\n",
    "\n",
    "#18 => Inception3a, torch layer14\n",
    "model.layers[1].set_weights(l1)\n",
    "model.layers[2].set_weights(l2)\n",
    "model.layers[7].set_weights(l6)\n",
    "model.layers[8].set_weights(l7)\n",
    "model.layers[11].set_weights(l9)\n",
    "model.layers[12].set_weights(l10)\n",
    "\n",
    "mid_input = Input(shape=(3, 96, 96))\n",
    "mid_output = model(mid_input)\n",
    "\n",
    "# Inception 3a\n",
    "# inception_3a_1x1 = Conv2D(64, (1, 1), data_format='channels_first', name='inception_3a_1x1_conv')(mid_output)\n",
    "# inception_3a_1x1 = BatchNormalization(axis=1, epsilon=0.00001, name='inception_3a_1x1_batchnorm')(inception_3a_1x1)\n",
    "# inception_3a_1x1 = Activation('relu')(inception_3a_1x1)\n",
    "\n",
    "# inception_3a_pool = MaxPooling2D(pool_size=3, strides=2, data_format='channels_first')(mid_output)\n",
    "# inception_3a_pool = Conv2D(32, (1, 1), data_format='channels_first', name='inception_3a_pool_conv')(inception_3a_pool)\n",
    "# inception_3a_pool = BatchNormalization(axis=1, epsilon=0.00001, name='inception_3a_pool_batchnorm')(inception_3a_pool)\n",
    "# inception_3a_pool = Activation('relu')(inception_3a_pool)\n",
    "\n",
    "inception_3a_5x5 = Conv2D(16, (1, 1), data_format='channels_first', name='inception_3a_5x5_conv1')(mid_output)\n",
    "inception_3a_5x5 = BatchNormalization(axis=1, epsilon=0.00001, name='inception_3a_5x5_bn1')(inception_3a_5x5)\n",
    "inception_3a_5x5 = Activation('relu')(inception_3a_5x5)\n",
    "inception_3a_5x5 = ZeroPadding2D(padding=(2, 2), data_format='channels_first')(inception_3a_5x5)\n",
    "inception_3a_5x5 = Conv2D(32, (5, 5), data_format='channels_first', name='inception_3a_5x5_conv2')(inception_3a_5x5)\n",
    "inception_3a_5x5 = BatchNormalization(axis=1, epsilon=0.00001, name='inception_3a_5x5_bn2')(inception_3a_5x5)\n",
    "inception_3a_5x5 = Activation('relu')(inception_3a_5x5)\n",
    "\n",
    "#--------------#\n",
    "newModel = Model(inputs=[mid_input], outputs=inception_3a_5x5)\n",
    "# inception_3a_1x1_output = concatenate([inception_3a_1x1, inception_3a_1x1], axis=1)\n",
    "\n"
   ]
  },
  {
   "cell_type": "code",
   "execution_count": 152,
   "metadata": {
    "collapsed": false
   },
   "outputs": [
    {
     "name": "stdout",
     "output_type": "stream",
     "text": [
      "(5, 5, 16, 32)\n"
     ]
    }
   ],
   "source": [
    "print newModel.get_layer('inception_3a_5x5_conv2').get_weights()[0].shape"
   ]
  },
  {
   "cell_type": "code",
   "execution_count": 153,
   "metadata": {
    "collapsed": false
   },
   "outputs": [],
   "source": [
    "# newModel.get_layer('inception_3a_1x1_conv').set_weights(inception_3a_1x1_conv)\n",
    "# newModel.get_layer('inception_3a_1x1_batchnorm').set_weights(inception_3a_1x1_batchnorm)\n",
    "\n",
    "# newModel.get_layer('inception_3a_pool_conv').set_weights(inception_3a_pool_conv)\n",
    "# newModel.get_layer('inception_3a_pool_batchnorm').set_weights(inception_3a_pool_batchnorm)\n",
    "\n",
    "newModel.get_layer('inception_3a_5x5_conv1').set_weights(inception_3a_5x5_conv1)\n",
    "newModel.get_layer('inception_3a_5x5_bn1').set_weights(inception_3a_5x5_bn1)\n",
    "newModel.get_layer('inception_3a_5x5_conv2').set_weights(inception_3a_5x5_conv2)\n",
    "newModel.get_layer('inception_3a_5x5_bn2').set_weights(inception_3a_5x5_bn2)"
   ]
  },
  {
   "cell_type": "code",
   "execution_count": 155,
   "metadata": {
    "collapsed": false
   },
   "outputs": [
    {
     "name": "stdout",
     "output_type": "stream",
     "text": [
      "[[ 0.          0.02248736  0.12051876  0.3417818   0.09233952  0.21182469\n",
      "   0.30301258  0.09440759  0.          0.          0.          0.00915401]\n",
      " [ 0.          0.19740099  0.17431879  0.16745774  0.          0.09239306\n",
      "   0.10517988  0.          0.          0.          0.          0.15131912]\n",
      " [ 0.13464344  0.27082077  0.16761115  0.          0.          0.\n",
      "   0.00187926  0.          0.          0.          0.          0.18885851]\n",
      " [ 0.10573056  0.12310664  0.          0.          0.05476026  0.14073402\n",
      "   0.          0.          0.          0.09924781  0.25106487  0.14190878]\n",
      " [ 0.          0.          0.06043835  0.21951461  0.23689267  0.00271354\n",
      "   0.          0.08382861  0.36349967  0.28471103  0.03772317  0.        ]\n",
      " [ 0.          0.06154363  0.19425371  0.          0.          0.          0.\n",
      "   0.19445908  0.08488779  0.00222014  0.          0.        ]\n",
      " [ 0.          0.06743795  0.24017283  0.2853747   0.14172676  0.10558233\n",
      "   0.          0.06913647  0.          0.          0.          0.        ]\n",
      " [ 0.          0.          0.26657462  0.38878077  0.15179008  0.06254309\n",
      "   0.          0.          0.          0.          0.          0.        ]\n",
      " [ 0.          0.13767824  0.17460647  0.18784624  0.04777548  0.          0.\n",
      "   0.          0.          0.          0.19617644  0.0838876 ]\n",
      " [ 0.          0.          0.20919606  0.          0.          0.15640515\n",
      "   0.04145265  0.          0.          0.          0.23355302  0.12635142]\n",
      " [ 0.          0.          0.          0.          0.          0.00143881\n",
      "   0.          0.          0.          0.08615483  0.30570024  0.13382041]\n",
      " [ 0.11926942  0.          0.          0.          0.          0.          0.\n",
      "   0.          0.2991772   0.3074474   0.29884815  0.0840793 ]]\n"
     ]
    }
   ],
   "source": [
    "x_train = np.array([img])\n",
    "y = newModel.predict_on_batch(x_train)\n",
    "print y[0][4]"
   ]
  },
  {
   "cell_type": "code",
   "execution_count": 119,
   "metadata": {
    "collapsed": false
   },
   "outputs": [],
   "source": [
    "img = cv2.imread('/Users/victor_sy_wang/Developer/ML/openface/data/lfw/dlib-affine-sz/Aaron_Eckhart/Aaron_Eckhart_0001.png', 1)\n",
    "img = img[...,::-1]\n",
    "img = np.around(np.transpose(img, (2,0,1))/255.0, decimals=12)=\n",
    "\n",
    "x_train = np.array([img])\n",
    "y = model.predict_on_batch(x_train)\n",
    "# print(y[0][0][47])"
   ]
  },
  {
   "cell_type": "code",
   "execution_count": 120,
   "metadata": {
    "collapsed": false
   },
   "outputs": [
    {
     "name": "stdout",
     "output_type": "stream",
     "text": [
      "(1, 192, 12, 12)\n",
      "[[ 2.2170074   2.2170074   1.7586298   1.7586298   1.52526164  1.0788908\n",
      "   1.12431765  0.75400519  0.43300831  0.60248494  0.24098226  0.24098226]\n",
      " [ 1.26282716  1.24833441  1.24833441  0.83356905  0.75118148  1.06663358\n",
      "   0.53794754  0.00834423  0.          0.          0.          0.        ]\n",
      " [ 1.1086297   0.8423025   1.14931428  0.85644209  1.17395496  1.17395496\n",
      "   0.20334938  1.30369282  1.30369282  0.72540182  0.48166224  0.        ]\n",
      " [ 1.42832053  1.47220004  1.23182702  0.85644209  1.17395496  1.17395496\n",
      "   0.1326133   1.30369282  1.30369282  0.72546029  0.48166224  0.        ]\n",
      " [ 1.50000203  1.50000203  1.38150764  1.05147398  0.77453184  0.38741794\n",
      "   0.07243127  1.00882506  1.15925574  0.72546029  0.06109819  0.        ]\n",
      " [ 1.21139097  1.46302986  1.38150764  1.05147398  0.44674999  0.55251473\n",
      "   0.09962156  0.6655305   0.97156864  0.45745906  0.          0.        ]\n",
      " [ 1.50898075  1.07527447  1.07527447  0.7114675   0.30391675  0.34369788\n",
      "   0.          0.65269899  0.69916195  0.29068857  0.          0.        ]\n",
      " [ 1.50898075  0.82546318  0.95824927  1.57933092  1.57933092  0.85730088\n",
      "   0.59729421  0.57515872  0.86110663  0.42891341  0.          0.48921028]\n",
      " [ 0.48997375  0.47927898  0.73290712  1.87219214  1.87219214  1.12745595\n",
      "   0.59729421  0.57515872  0.86110663  0.42891341  0.          0.48921028]\n",
      " [ 0.61653948  0.20481959  0.57134593  0.64694488  0.83124149  0.72764784\n",
      "   0.2665453   0.08910596  0.          0.          0.02414757  0.4242382 ]\n",
      " [ 0.67586076  0.          0.73554569  0.81951439  0.83124149  0.72764784\n",
      "   0.39898053  0.          0.          0.06316125  0.2177195   0.51616812]\n",
      " [ 0.35815758  0.          0.46324372  0.81951439  0.72811484  0.45784378\n",
      "   0.39898053  0.          0.          0.06316125  0.2177195   0.11018515]]\n"
     ]
    }
   ],
   "source": [
    "# model.layers[1].get_weights()[0].shape\n",
    "print(y.shape)\n",
    "print(y[0][0])"
   ]
  },
  {
   "cell_type": "code",
   "execution_count": null,
   "metadata": {
    "collapsed": true
   },
   "outputs": [],
   "source": []
  }
 ],
 "metadata": {
  "kernelspec": {
   "display_name": "Python 2",
   "language": "python",
   "name": "python2"
  },
  "language_info": {
   "codemirror_mode": {
    "name": "ipython",
    "version": 2
   },
   "file_extension": ".py",
   "mimetype": "text/x-python",
   "name": "python",
   "nbconvert_exporter": "python",
   "pygments_lexer": "ipython2",
   "version": "2.7.13"
  }
 },
 "nbformat": 4,
 "nbformat_minor": 2
}
