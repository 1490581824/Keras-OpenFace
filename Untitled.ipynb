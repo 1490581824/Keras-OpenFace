{
 "cells": [
  {
   "cell_type": "code",
   "execution_count": 2,
   "metadata": {
    "collapsed": false
   },
   "outputs": [],
   "source": [
    "from keras.models import Sequential\n",
    "from keras.layers import Conv2D, ZeroPadding2D, Activation\n",
    "from keras.layers.normalization import BatchNormalization\n",
    "from keras.layers.pooling import MaxPooling2D\n",
    "from keras.engine.topology import Layer\n",
    "import cv2\n",
    "import numpy as np\n",
    "from numpy import genfromtxt\n",
    "import pandas as pd\n",
    "import tensorflow as tf\n",
    "import utils as K\n",
    "\n",
    "np.set_printoptions(threshold=np.nan)\n",
    "\n",
    "w1 = '/Users/victor_sy_wang/Developer/ML/openface/models/openface/weights/l1_w.csv'\n",
    "b1 = '/Users/victor_sy_wang/Developer/ML/openface/models/openface/weights/l1_b.csv'\n",
    "w2 = '/Users/victor_sy_wang/Developer/ML/openface/models/openface/weights/l2_w.csv'\n",
    "b2 = '/Users/victor_sy_wang/Developer/ML/openface/models/openface/weights/l2_b.csv'\n",
    "m2 = '/Users/victor_sy_wang/Developer/ML/openface/models/openface/weights/l2_m.csv'\n",
    "v2 = '/Users/victor_sy_wang/Developer/ML/openface/models/openface/weights/l2_v.csv'"
   ]
  },
  {
   "cell_type": "code",
   "execution_count": 3,
   "metadata": {
    "collapsed": false
   },
   "outputs": [],
   "source": [
    "l1_w = genfromtxt(w1, delimiter=',', dtype=None)\n",
    "l1_w = l1_w.reshape(64, 147).reshape(64, 3, 7, 7)\n",
    "l1_w = np.transpose(l1_w, (2, 3, 1, 0))\n",
    "# print (layer1_w.shape)\n",
    "l1_b = genfromtxt(b1, delimiter=',', dtype=None)\n",
    "l1 = [l1_w, l1_b]\n",
    "\n",
    "\n",
    "l2_w = genfromtxt(w2, delimiter=',', dtype=None)\n",
    "l2_b = genfromtxt(b2, delimiter=',', dtype=None)\n",
    "l2_m = genfromtxt(m2, delimiter=',', dtype=None)\n",
    "l2_v = genfromtxt(v2, delimiter=',', dtype=None)\n",
    "l2 = [l2_w, l2_b, l2_m, l2_v]"
   ]
  },
  {
   "cell_type": "code",
   "execution_count": 4,
   "metadata": {
    "collapsed": false
   },
   "outputs": [],
   "source": [
    "class LRN2D(Layer):\n",
    "    \"\"\"\n",
    "    This code is adapted from pylearn2.\n",
    "    License at: https://github.com/lisa-lab/pylearn2/blob/master/LICENSE.txt\n",
    "    \"\"\"\n",
    "\n",
    "    def __init__(self, alpha=1e-4, k=2, beta=0.75, n=5, **kwargs):\n",
    "        if n % 2 == 0:\n",
    "            raise NotImplementedError(\"LRN2D only works with odd n. n provided: \" + str(n))\n",
    "        super(LRN2D, self).__init__(**kwargs)\n",
    "        self.alpha = alpha\n",
    "        self.k = k\n",
    "        self.beta = beta\n",
    "        self.n = n\n",
    "\n",
    "    def get_output(self, train):\n",
    "        X = self.get_input(train)\n",
    "        b, ch, r, c = K.shape(X)\n",
    "        half_n = self.n // 2\n",
    "        input_sqr = K.square(X)\n",
    "        extra_channels = K.zeros((b, ch + 2 * half_n, r, c))\n",
    "        input_sqr = K.concatenate([extra_channels[:, :half_n, :, :],\n",
    "                                   input_sqr,\n",
    "                                   extra_channels[:, half_n + ch:, :, :]],\n",
    "                                  axis=1)\n",
    "        scale = self.k\n",
    "        for i in range(self.n):\n",
    "            scale += self.alpha * input_sqr[:, i:i + ch, :, :]\n",
    "        scale = scale ** self.beta\n",
    "        return X / scale\n",
    "\n",
    "    def get_config(self):\n",
    "        config = {\"name\": self.__class__.__name__,\n",
    "                  \"alpha\": self.alpha,\n",
    "                  \"k\": self.k,\n",
    "                  \"beta\": self.beta,\n",
    "                  \"n\": self.n}\n",
    "        base_config = super(LRN2D, self).get_config()\n",
    "        return dict(list(base_config.items()) + list(config.items()))"
   ]
  },
  {
   "cell_type": "code",
   "execution_count": 6,
   "metadata": {
    "collapsed": false
   },
   "outputs": [],
   "source": [
    "model = Sequential()\n",
    "model.add(ZeroPadding2D(padding=(3, 3), input_shape=(3, 96, 96), data_format='channels_first'))\n",
    "model.add(Conv2D(64, (7, 7), strides=(2, 2), data_format='channels_first'))\n",
    "model.add(BatchNormalization(axis=1, epsilon=0.00001))\n",
    "model.add(Activation('relu'))\n",
    "model.add(ZeroPadding2D(padding=(1, 1), data_format='channels_first'))\n",
    "model.add(MaxPooling2D(pool_size=3, strides=2, data_format='channels_first'))\n",
    "model.add(LRN2D())\n",
    "\n",
    "model.layers[1].set_weights(l1)\n",
    "model.layers[2].set_weights(l2)\n",
    "\n",
    "# w= model.layers[2].get_weights()\n",
    "# print(w)"
   ]
  },
  {
   "cell_type": "code",
   "execution_count": 7,
   "metadata": {
    "collapsed": false
   },
   "outputs": [],
   "source": [
    "img = cv2.imread('/Users/victor_sy_wang/Developer/ML/openface/data/lfw/dlib-affine-sz/Aaron_Eckhart/Aaron_Eckhart_0001.png', 1)\n",
    "img = img[...,::-1]\n",
    "img = np.around(np.transpose(img, (2,0,1))/255.0, decimals=12)\n",
    "# img = np.transpose(img, (2,0,1))/255.0\n",
    "# print(img[0][0][0])\n",
    "# print(img[1])\n",
    "\n",
    "x_train = np.array([img])\n",
    "y = model.predict_on_batch(x_train)\n",
    "# print(y[0][0][47])"
   ]
  },
  {
   "cell_type": "code",
   "execution_count": 15,
   "metadata": {
    "collapsed": false
   },
   "outputs": [
    {
     "name": "stdout",
     "output_type": "stream",
     "text": [
      "0.430014\n"
     ]
    }
   ],
   "source": [
    "print(y[0][0][0][23])"
   ]
  },
  {
   "cell_type": "code",
   "execution_count": null,
   "metadata": {
    "collapsed": true
   },
   "outputs": [],
   "source": []
  }
 ],
 "metadata": {
  "kernelspec": {
   "display_name": "Python 2",
   "language": "python",
   "name": "python2"
  },
  "language_info": {
   "codemirror_mode": {
    "name": "ipython",
    "version": 2
   },
   "file_extension": ".py",
   "mimetype": "text/x-python",
   "name": "python",
   "nbconvert_exporter": "python",
   "pygments_lexer": "ipython2",
   "version": "2.7.13"
  }
 },
 "nbformat": 4,
 "nbformat_minor": 2
}
