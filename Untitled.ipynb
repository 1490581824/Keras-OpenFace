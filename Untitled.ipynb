{
 "cells": [
  {
   "cell_type": "code",
   "execution_count": 6,
   "metadata": {
    "collapsed": false
   },
   "outputs": [],
   "source": [
    "import pandas as pd\n",
    "from operator import itemgetter\n",
    "import os\n",
    "from sklearn.preprocessing import LabelEncoder\n",
    "from sklearn.svm import SVC\n",
    "import time\n",
    "import numpy as np\n",
    "np.set_printoptions(threshold=np.nan)\n"
   ]
  },
  {
   "cell_type": "code",
   "execution_count": 7,
   "metadata": {
    "collapsed": false
   },
   "outputs": [
    {
     "name": "stdout",
     "output_type": "stream",
     "text": [
      "['Aaron_Eckhart', 'Aaron_Guiel', 'Aaron_Patterson', 'Aaron_Peirsol', 'Aaron_Peirsol', 'Aaron_Peirsol', 'Aaron_Peirsol', 'Aaron_Pena', 'Aaron_Sorkin', 'Aaron_Sorkin', 'Aaron_Tippin', 'Abba_Eban', 'Abbas_Kiarostami', 'Abdel_Aziz_Al-Hakim', 'Abdel_Madi_Shabneh', 'Abdel_Nasser_Assidi', 'Abdel_Nasser_Assidi', 'Abdoulaye_Wade', 'Abdoulaye_Wade', 'Abdoulaye_Wade', 'Abdoulaye_Wade', 'Abdul_Majeed_Shobokshi', 'Abdul_Rahman', 'Abdulaziz_Kamilov', 'Abdullah', 'Abdullah', 'Abdullah', 'Abdullah', 'Abdullah_Ahmad_Badawi', 'Abdullah_al-Attiyah', 'Abdullah_al-Attiyah', 'Abdullah_al-Attiyah', 'Abdullah_Gul', 'Abdullah_Gul', 'Abdullah_Gul', 'Abdullah_Gul', 'Abdullah_Gul', 'Abdullah_Gul', 'Abdullah_Gul', 'Abdullah_Gul', 'Abdullah_Gul', 'Abdullah_Gul', 'Abdullah_Gul', 'Abdullah_Gul', 'Abdullah_Gul', 'Abdullah_Gul', 'Abdullah_Gul', 'Abdullah_Gul', 'Abdullah_Gul', 'Abdullah_Gul', 'Abdullah_Gul', 'Abdullah_Nasseef', 'Abdullatif_Sener', 'Abdullatif_Sener', 'Abel_Aguilar', 'Abel_Pacheco', 'Abel_Pacheco', 'Abel_Pacheco', 'Abel_Pacheco', 'Abid_Hamid_Mahmud_Al-Tikriti', 'Abid_Hamid_Mahmud_Al-Tikriti', 'Abid_Hamid_Mahmud_Al-Tikriti', 'Abner_Martinez', 'Abraham_Foxman', 'Aby_Har-Even', 'Adam_Ant', 'Adam_Freier', 'Adam_Herbert', 'Adam_Kennedy', 'Adam_Mair', 'Adam_Rich', 'Adam_Sandler', 'Adam_Sandler', 'Adam_Sandler', 'Adam_Sandler', 'Adam_Scott', 'Adam_Scott', 'Adel_Al-Jubeir', 'Adel_Al-Jubeir', 'Adel_Al-Jubeir', 'Adelina_Avila', 'Adisai_Bodharamik', 'Adolfo_Aguilar_Zinser', 'Adolfo_Aguilar_Zinser', 'Adolfo_Aguilar_Zinser', 'Adolfo_Rodriguez_Saa', 'Adolfo_Rodriguez_Saa', 'Adoor_Gopalakarishnan', 'Adrian_Annus', 'Adrian_Fernandez', 'Adrian_McPherson', 'Adrian_McPherson', 'Adrian_Murrell', 'Adrian_Nastase', 'Adrian_Nastase', 'Adriana_Lima', 'Adriana_Perez_Navarro', 'Adrianna_Zuzic', 'Adrien_Brody', 'Adrien_Brody', 'Adrien_Brody', 'Adrien_Brody', 'Adrien_Brody', 'Adrien_Brody', 'Adrien_Brody', 'Adrien_Brody', 'Adrien_Brody', 'Adrien_Brody', 'Adrien_Brody', 'Adrien_Brody', 'Afton_Smith', 'Agbani_Darego', 'Agnelo_Queiroz', 'Agnes_Bruckner', 'Ahmad_Jbarah', 'Ahmad_Masood', 'Ahmad_Masood', 'Ahmed_Ahmed', 'Ahmed_Chalabi', 'Ahmed_Chalabi', 'Ahmed_Chalabi', 'Ahmed_Chalabi', 'Ahmed_Chalabi', 'Ahmed_Ghazi', 'Ahmed_Ibrahim_Bilal', 'Ahmed_Lopez', 'Ahmed_Qureia', 'Ahmet_Demir', 'Ahmet_Necdet_Sezer', 'Ahmet_Necdet_Sezer', 'Ai_Sugiyama', 'Ai_Sugiyama', 'Ai_Sugiyama', 'Ai_Sugiyama', 'Ai_Sugiyama', 'Aicha_El_Ouafi', 'Aicha_El_Ouafi', 'Aicha_El_Ouafi', 'Aidan_Quinn', 'Aileen_Riggin_Soule', 'Ain_Seppik', 'Ainsworth_Dyer', 'Aishwarya_Rai', 'Aitor_Gonzalez', 'Aitor_Gonzalez', 'Aiysha_Smith', 'AJ_Cook', 'AJ_Lamas', 'Ajit_Agarkar', 'Akbar_Al_Baker', 'Akbar_Hashemi_Rafsanjani', 'Akbar_Hashemi_Rafsanjani', 'Akbar_Hashemi_Rafsanjani', 'Akhmed_Zakayev', 'Akhmed_Zakayev', 'Akhmed_Zakayev', 'Akiko_Morigami', 'Akmal_Taher', 'Al_Cardenas', 'Al_Davis', 'Al_Davis', 'Al_Gore', 'Al_Gore', 'Al_Gore', 'Al_Gore', 'Al_Gore', 'Al_Gore', 'Al_Gore', 'Al_Gore', 'Al_Leiter', 'Al_Pacino', 'Al_Pacino', 'Al_Pacino', 'Al_Sharpton', 'Al_Sharpton', 'Al_Sharpton', 'Al_Sharpton', 'Al_Sharpton', 'Al_Sharpton', 'Al_Sharpton', 'Alain_Cervantes', 'Alain_Ducasse', 'Alan_Ball', 'Alan_Ball', 'Alan_Dershowitz', 'Alan_Dreher', 'Alan_Greenspan', 'Alan_Greenspan', 'Alan_Greenspan', 'Alan_Greenspan', 'Alan_Greenspan', 'Alan_Greer', 'Alan_Jackson', 'Alan_Mulally', 'Alan_Mulally', 'Alan_Stonecipher', 'Alan_Tang_Kwong-wing', 'Alan_Trammell', 'Alan_Zemaitis', 'Alanis_Morissette', 'Alanna_Ubach', 'Alastair_Campbell', 'Alastair_Campbell', 'Alastair_Campbell', 'Alastair_Campbell', 'Alastair_Campbell', 'Alastair_Johnston', 'Albaro_Recoba', 'Albert_Brooks', 'Albert_Costa', 'Albert_Costa', 'Albert_Costa', 'Albert_Costa', 'Albert_Costa', 'Albert_Costa', 'Albert_Montanes', 'Albert_Pujols', 'Alberta_Lee', 'Alberto_Acosta', 'Alberto_Fujimori', 'Alberto_Fujimori', 'Alberto_Gonzales', 'Alberto_Ruiz_Gallardon', 'Alberto_Ruiz_Gallardon', 'Alberto_Sordi', 'Albrecht_Mentz', 'Albrecht_Mentz', 'Aldo_Paredes', 'Aldo_Paredes', 'Alec_Baldwin', 'Alec_Baldwin', 'Alec_Baldwin', 'Alec_Baldwin', 'Alecos_Markides', 'Alejandro_Atchugarry', 'Alejandro_Atchugarry', 'Alejandro_Avila', 'Alejandro_Avila', 'Alejandro_Avila', 'Alejandro_Fernandez', 'Alejandro_Gonzalez_Inarritu', 'Alejandro_Lembo', 'Alejandro_Lerner', 'Alejandro_Lopez', 'Alejandro_Toledo', 'Alejandro_Toledo', 'Alejandro_Toledo', 'Alejandro_Toledo', 'Alejandro_Toledo', 'Alejandro_Toledo', 'Alejandro_Toledo', 'Alejandro_Toledo', 'Alejandro_Toledo', 'Alejandro_Toledo', 'Alejandro_Toledo', 'Alejandro_Toledo', 'Alejandro_Toledo', 'Alejandro_Toledo', 'Alejandro_Toledo', 'Alejandro_Toledo', 'Alejandro_Toledo', 'Alejandro_Toledo', 'Alejandro_Toledo', 'Alejandro_Toledo', 'Alejandro_Toledo', 'Alejandro_Toledo', 'Alejandro_Toledo', 'Alejandro_Toledo', 'Alejandro_Toledo', 'Alejandro_Toledo', 'Alejandro_Toledo', 'Alejandro_Toledo', 'Alejandro_Toledo', 'Alejandro_Toledo', 'Alejandro_Toledo', 'Alejandro_Toledo', 'Alejandro_Toledo', 'Alejandro_Toledo', 'Alejandro_Toledo', 'Alejandro_Toledo', 'Alejandro_Toledo', 'Alejandro_Toledo', 'Alejandro_Toledo', 'Alek_Wek', 'Aleksander_Kwasniewski', 'Aleksander_Kwasniewski', 'Aleksander_Kwasniewski', 'Aleksander_Kwasniewski', 'Aleksander_Voloshin', 'Alessandra_Cerna', 'Alessandro_Nesta', 'Alex_Barros', 'Alex_Barros', 'Alex_Cabrera', 'Alex_Cejka', 'Alex_Corretja', 'Alex_Ferguson', 'Alex_Gonzalez', 'Alex_Holmes', 'Alex_King', 'Alex_Penelas', 'Alex_Penelas', 'Alex_Popov', 'Alex_Sink', 'Alex_Sink', 'Alex_Sink', 'Alex_Wallau', 'Alex_Zanardi', 'Alexa_Loren', 'Alexa_Vega', 'Alexander_Downer', 'Alexander_Downer', 'Alexander_Downer', 'Alexander_Downer', 'Alexander_Losyukov', 'Alexander_Losyukov', 'Alexander_Losyukov', 'Alexander_Losyukov', 'Alexander_Lukashenko', 'Alexander_Payne', 'Alexander_Rumyantsev', 'Alexander_Rumyantsev', 'Alexandra_Jackson', 'Alexandra_Pelosi', 'Alexandra_Rozovskaya', 'Alexandra_Spann', 'Alexandra_Stevenson', 'Alexandra_Stevenson', 'Alexandra_Stevenson', 'Alexandra_Vodjanikova', 'Alexandra_Vodjanikova', 'Alexandre_Daigle', 'Alexandre_Despatie', 'Alexandre_Herchcovitch', 'Alexandre_Vinokourov', 'Alexis_Bledel', 'Alexis_Dennisoff', 'Alfonso_Cuaron', 'Alfonso_Portillo', 'Alfonso_Soriano', 'Alfred_Ford', 'Alfred_Sant', 'Alfredo_di_Stefano', 'Alfredo_Moreno', 'Alfredo_Pena', 'Ali_Abbas', 'Ali_Abbas', 'Ali_Abdullah_Saleh', 'Ali_Adbul_Karim_Madani', 'Ali_Ahmeti', 'Ali_Bin_Hussein', 'Ali_Fallahian', 'Ali_Hammoud', 'Ali_Khamenei', 'Ali_Khamenei', 'Ali_Khamenei', 'Ali_Mohammed_Maher', 'Ali_Naimi', 'Ali_Naimi', 'Ali_Naimi', 'Ali_Naimi', 'Ali_Naimi', 'Ali_Naimi', 'Ali_Naimi', 'Ali_Naimi', 'Alice_Fisher', 'Alice_Fisher', 'Alicia_Hollowell', 'Alicia_Keys', 'Alicia_Molik', 'Alicia_Silverstone', 'Alicia_Silverstone', 'Alicia_Witt', 'Alimzhan_Tokhtakhounov', 'Alimzhan_Tokhtakhounov', 'Alina_Kabaeva', 'Aline_Chretien', 'Alisha_Richman', 'Alison_Krauss', 'Alison_Lohman', 'Alison_Lohman', 'Alistair_MacDonald', 'Allan_Houston', 'Allan_Kemakeza', 'Allan_Wagner', 'Allen_Iverson', 'Allen_Iverson', 'Allen_Rock', 'Allison_Janney', 'Allison_Janney', 'Allison_Searing', 'Ally_Sheedy', 'Allyson_Felix', 'Allyson_Felix', 'Allyson_Felix', 'Allyson_Felix', 'Allyson_Felix', 'Alma_Powell', 'Almeida_Baptista', 'Alonzo_Mourning', 'Alvaro_Noboa', 'Alvaro_Noboa', 'Alvaro_Noboa', 'Alvaro_Silva_Calderon', 'Alvaro_Silva_Calderon', 'Alvaro_Silva_Calderon', 'Alvaro_Silva_Calderon', 'Alvaro_Uribe', 'Alvaro_Uribe', 'Alvaro_Uribe', 'Alvaro_Uribe', 'Alvaro_Uribe', 'Alvaro_Uribe', 'Alvaro_Uribe', 'Alvaro_Uribe', 'Alvaro_Uribe', 'Alvaro_Uribe', 'Alvaro_Uribe', 'Alvaro_Uribe', 'Alvaro_Uribe', 'Alvaro_Uribe', 'Alvaro_Uribe', 'Alvaro_Uribe', 'Alvaro_Uribe', 'Alvaro_Uribe', 'Alvaro_Uribe', 'Alvaro_Uribe', 'Alvaro_Uribe', 'Alvaro_Uribe', 'Alvaro_Uribe', 'Alvaro_Uribe', 'Alvaro_Uribe', 'Alvaro_Uribe', 'Alvaro_Uribe', 'Alvaro_Uribe', 'Alvaro_Uribe', 'Alvaro_Uribe', 'Alvaro_Uribe', 'Alvaro_Uribe', 'Alvaro_Uribe', 'Alvaro_Uribe', 'Alvaro_Uribe', 'Aly_Wagner', 'Alyse_Beaupre', 'Alyson_Hannigan', 'Amanda_Beard', 'Amanda_Beard', 'Amanda_Bynes', 'Amanda_Bynes', 'Amanda_Bynes', 'Amanda_Bynes', 'Amanda_Coetzer', 'Amanda_Coetzer', 'Amanda_Marsh', 'Amanda_Plumer', 'Amber_Frey', 'Amber_Tamblyn', 'Amber_Tamblyn', 'Ambrose_Lee', 'Amelia_Vega', 'Amelia_Vega', 'Amelia_Vega', 'Amelia_Vega', 'Amelia_Vega', 'Amelia_Vega', 'Amelia_Vega', 'Amelie_Mauresmo', 'Amelie_Mauresmo', 'Amelie_Mauresmo', 'Amelie_Mauresmo', 'Amelie_Mauresmo', 'Amelie_Mauresmo', 'Amelie_Mauresmo', 'Amelie_Mauresmo', 'Amelie_Mauresmo', 'Amelie_Mauresmo', 'Amelie_Mauresmo', 'Amelie_Mauresmo', 'Amelie_Mauresmo', 'Amelie_Mauresmo', 'Amelie_Mauresmo', 'Amelie_Mauresmo', 'Amelie_Mauresmo', 'Amelie_Mauresmo', 'Amelie_Mauresmo', 'Amelie_Mauresmo', 'Amelie_Mauresmo', 'Amer_al-Saadi', 'Amer_al-Saadi', 'Amer_al-Saadi', 'Amer_al-Saadi', 'Amporn_Falise', 'Amr_Moussa', 'Amram_Mitzna', 'Amram_Mitzna', 'Amy_Brenneman', 'Amy_Cotton', 'Amy_Gale', 'Amy_Pascal', 'Amy_Redford', 'Amy_Smart', 'Amy_Yasbeck', 'Ana_Claudia_Talancon', 'Ana_Guevara', 'Ana_Guevara', 'Ana_Guevara', 'Ana_Guevara', 'Ana_Guevara', 'Ana_Guevara', 'Ana_Guevara', 'Ana_Isabel_Sanchez', 'Ana_Palacio', 'Ana_Palacio', 'Ana_Palacio', 'Ana_Palacio', 'Ana_Palacio', 'Ana_Palacio', 'Ana_Palacio', 'Ana_Palacio', 'Ana_Paula_Gerard', 'Ana_Sebastiao', 'Anastasia_Kelesidou', 'Anastasia_Myskina', 'Anastasia_Myskina', 'Anastasia_Myskina', 'Anatoliy_Kinakh', 'Anders_Ebbeson', 'Anders_Ebbeson', 'Anders_Ebbeson', 'Anders_Fogh_Rasmussen', 'Anders_Fogh_Rasmussen', 'Anders_Fogh_Rasmussen', 'Anders_Fogh_Rasmussen', 'Anderson_Varejao', 'Andre_Agassi', 'Andre_Agassi', 'Andre_Agassi', 'Andre_Agassi', 'Andre_Agassi', 'Andre_Agassi', 'Andre_Agassi', 'Andre_Agassi', 'Andre_Agassi', 'Andre_Agassi', 'Andre_Agassi', 'Andre_Agassi', 'Andre_Agassi', 'Andre_Agassi', 'Andre_Agassi', 'Andre_Agassi', 'Andre_Agassi', 'Andre_Agassi', 'Andre_Agassi', 'Andre_Agassi', 'Andre_Agassi', 'Andre_Agassi', 'Andre_Agassi', 'Andre_Agassi', 'Andre_Agassi', 'Andre_Agassi', 'Andre_Agassi', 'Andre_Agassi', 'Andre_Agassi', 'Andre_Agassi', 'Andre_Agassi', 'Andre_Agassi', 'Andre_Agassi', 'Andre_Agassi', 'Andre_Agassi', 'Andre_Agassi', 'Andre_Bucher', 'Andre_Lange', 'Andre_Smith', 'Andre_Techine', 'Andrea_Bocelli', 'Andrea_De_Cruz', 'Andrea_Kiser', 'Andrea_Yates', 'Andreas_Vinciguerra', 'Andrei_Konchalovsky', 'Andrei_Mikhnevich', 'Andrei_Mikhnevich', 'Andrei_Nikolishin', 'Andres_DAlessandro', 'Andres_Manuel_Lopez_Obrador', 'Andres_Pastrana', 'Andrew_Bernard', 'Andrew_Bunner', 'Andrew_Bunner', 'Andrew_Caldecott', 'Andrew_Cuomo', 'Andrew_Cuomo', 'Andrew_Fastow', 'Andrew_Firestone', 'Andrew_Gilligan', 'Andrew_Jarecki', 'Andrew_Luster', 'Andrew_Niccol', 'Andrew_Niccol', 'Andrew_Sabey', 'Andrew_Shutley', 'Andrew_Weissmann', 'Andrew_Weissmann', 'Andrew_Weissmann', 'Andrew_Wetzler', 'Andrzej_Tyszkiewicz', 'Andy_Benes', 'Andy_Bryant', 'Andy_Dick', 'Andy_Garcia', 'Andy_Graves', 'Andy_Griffith', 'Andy_Griggs', 'Andy_Hebb', 'Andy_Hebb', 'Andy_Lau', 'Andy_Madikians', 'Andy_North', 'Andy_Perez', 'Andy_Roddick', 'Andy_Roddick', 'Andy_Roddick', 'Andy_Roddick', 'Andy_Roddick', 'Andy_Roddick', 'Andy_Roddick', 'Andy_Roddick', 'Andy_Roddick', 'Andy_Roddick', 'Andy_Roddick', 'Andy_Roddick', 'Andy_Roddick', 'Andy_Roddick', 'Andy_Roddick', 'Andy_Rooney', 'Andy_Warhol', 'Andy_Wisecarver', 'Anette_Hosoi', 'AnFernce_Negron', 'Angel_Lockward', 'Angel_Maza', 'Angela_Alvarado_Rosa', 'Angela_Bassett', 'Angela_Bassett', 'Angela_Bassett', 'Angela_Bassett', 'Angela_Bassett', 'Angela_Bassett', 'Angela_Lansbury', 'Angela_Lansbury', 'Angela_Mascia-Frye', 'Angela_Merkel', 'Angela_Merkel', 'Angela_Merkel', 'Angela_Merkel', 'Angela_Merkel', 'Angelica_Romero', 'Angelina_Jolie', 'Angelina_Jolie', 'Angelina_Jolie', 'Angelina_Jolie', 'Angelina_Jolie', 'Angelina_Jolie', 'Angelina_Jolie', 'Angelina_Jolie', 'Angelina_Jolie', 'Angelina_Jolie', 'Angelina_Jolie', 'Angelina_Jolie', 'Angelina_Jolie', 'Angelina_Jolie', 'Angelina_Jolie', 'Angelina_Jolie', 'Angelina_Jolie', 'Angelina_Jolie', 'Angelina_Jolie', 'Angelina_Jolie', 'Angelo_Genova', 'Angelo_Reyes', 'Angelo_Reyes', 'Angelo_Reyes', 'Angelo_Reyes', 'Angie_Arzola', 'Angie_Martinez', 'Anibal_Ibarra', 'Anibal_Ibarra', 'Anibal_Ibarra', 'Anil_Ramsook', 'Anita_DeFrantz', 'Anja_Paerson', 'Anjum_Hussain', 'Ann_Godbehere', 'Ann_Landers', 'Ann_Morgan', 'Ann_Veneman', 'Ann_Veneman', 'Ann_Veneman', 'Ann_Veneman', 'Ann_Veneman', 'Ann_Veneman', 'Ann_Veneman', 'Ann_Veneman', 'Ann_Veneman', 'Ann_Veneman', 'Ann_Veneman', 'Anna_Chicherova', 'Anna_Faris', 'Anna_Jones', 'Anna_Kournikova', 'Anna_Kournikova', 'Anna_Kournikova', 'Anna_Kournikova', 'Anna_Kournikova', 'Anna_Kournikova', 'Anna_Kournikova', 'Anna_Kournikova', 'Anna_Kournikova', 'Anna_Kournikova', 'Anna_Kournikova', 'Anna_Kournikova', 'Anna_Nicole_Smith', 'Anna_Nicole_Smith', 'Anne_Cavers', 'Anne_Donovan', 'Anne_Heche', 'Anne_Krueger', 'Anne_Krueger', 'Anne_Krueger', 'Anne_McLellan', 'Anne_McLellan', 'Anne_McLellan', 'Anne_ONeil', 'Anneli_Jaatteenmaki', 'Anneli_Jaatteenmaki', 'Annette_Bening', 'Annette_Bening', 'Annette_Lu', 'Annette_Lu', 'Annette_Lu', 'Annie-Jeanne_Reynaud', 'Annie_Chaplin', 'Annie_Machon', 'Annika_Sorenstam', 'Antanas_Valionis', 'Anthony_Carter', 'Anthony_Corso', 'Anthony_Ervin', 'Anthony_Fauci', 'Anthony_Fauci', 'Anthony_Garotinho', 'Anthony_Hazen', 'Anthony_Hopkins', 'Anthony_Hopkins', 'Anthony_LaPaglia', 'Anthony_LaPaglia', 'Anthony_Lee_Johnson', 'Anthony_Mazur', 'Anthony_Pico', 'Anthony_Pisciotti', 'Anthony_Principi', 'Anthony_Rackauckas', 'Anthony_Scott_Miller', 'Antje_Buschschulte', 'Anton_Balasingham', 'Antonio_Banderas', 'Antonio_Banderas', 'Antonio_Banderas', 'Antonio_Banderas', 'Antonio_Banderas', 'Antonio_Bernardo', 'Antonio_Cassano', 'Antonio_Catania', 'Antonio_Elias_Saca', 'Antonio_Palocci', 'Antonio_Palocci', 'Antonio_Palocci', 'Antonio_Palocci', 'Antonio_Palocci', 'Antonio_Palocci', 'Antonio_Palocci', 'Antonio_Palocci', 'Antonio_Trillanes', 'Antonio_Trillanes', 'Antonio_Trillanes', 'Antony_Leung', 'Antony_Leung', 'Antony_Leung', 'Antony_Leung', 'Antwun_Echols', 'Anwar_Ibrahim', 'Anwar_Ibrahim', 'Anzori_Kikalishvili', 'Aparna_Pillai', 'Aram_Adler', 'Arantxa_Sanchez-Vicario', 'Arantxa_Sanchez-Vicario', 'Aretha_Franklin', 'Ari_Bousbib', 'Ari_Fleischer', 'Ari_Fleischer', 'Ari_Fleischer', 'Ari_Fleischer', 'Ari_Fleischer', 'Ari_Fleischer', 'Ari_Fleischer', 'Ari_Fleischer', 'Ari_Fleischer', 'Ari_Fleischer', 'Ari_Fleischer', 'Ari_Fleischer', 'Ari_Fleischer', 'Arianna_Huffington', 'Arianna_Huffington', 'Arianna_Huffington', 'Arianna_Huffington', 'Arie_Haan', 'Ariel_Sharon', 'Ariel_Sharon', 'Ariel_Sharon', 'Ariel_Sharon', 'Ariel_Sharon', 'Ariel_Sharon', 'Ariel_Sharon', 'Ariel_Sharon', 'Ariel_Sharon', 'Ariel_Sharon', 'Ariel_Sharon', 'Ariel_Sharon', 'Ariel_Sharon', 'Ariel_Sharon', 'Ariel_Sharon', 'Ariel_Sharon', 'Ariel_Sharon', 'Ariel_Sharon', 'Ariel_Sharon', 'Ariel_Sharon', 'Ariel_Sharon', 'Ariel_Sharon', 'Ariel_Sharon', 'Ariel_Sharon', 'Ariel_Sharon', 'Ariel_Sharon', 'Ariel_Sharon', 'Ariel_Sharon', 'Ariel_Sharon', 'Ariel_Sharon', 'Ariel_Sharon', 'Ariel_Sharon', 'Ariel_Sharon', 'Ariel_Sharon', 'Ariel_Sharon', 'Ariel_Sharon', 'Ariel_Sharon', 'Ariel_Sharon', 'Ariel_Sharon', 'Ariel_Sharon', 'Ariel_Sharon', 'Ariel_Sharon', 'Ariel_Sharon', 'Ariel_Sharon', 'Ariel_Sharon', 'Ariel_Sharon', 'Ariel_Sharon', 'Ariel_Sharon', 'Ariel_Sharon', 'Ariel_Sharon', 'Ariel_Sharon', 'Ariel_Sharon', 'Ariel_Sharon', 'Ariel_Sharon', 'Ariel_Sharon', 'Ariel_Sharon', 'Ariel_Sharon', 'Ariel_Sharon', 'Ariel_Sharon', 'Ariel_Sharon', 'Ariel_Sharon', 'Ariel_Sharon', 'Ariel_Sharon', 'Ariel_Sharon', 'Ariel_Sharon', 'Ariel_Sharon', 'Ariel_Sharon', 'Ariel_Sharon', 'Ariel_Sharon', 'Ariel_Sharon', 'Ariel_Sharon', 'Ariel_Sharon', 'Ariel_Sharon', 'Ariel_Sharon', 'Ariel_Sharon', 'Ariel_Sharon', 'Ariel_Sharon', 'Arif_Mardin', 'Arlen_Specter', 'Arlen_Specter', 'Arlen_Specter', 'Armand_Sargen', 'Armando_Avila_Panchame', 'Armando_Calderon_Sol', 'Armando_Carrillo', 'Arminio_Fraga', 'Arminio_Fraga', 'Arminio_Fraga', 'Arminio_Fraga', 'Arminio_Fraga', 'Arminio_Fraga', 'Arnaud_Clement', 'Arnaud_Clement', 'Arnaud_Lagardere', 'Arnie_Boehm', 'Arnold_Palmer', 'Arnold_Palmer', 'Arnold_Palmer', 'Arnold_Schwarzenegger', 'Arnold_Schwarzenegger', 'Arnold_Schwarzenegger', 'Arnold_Schwarzenegger', 'Arnold_Schwarzenegger', 'Arnold_Schwarzenegger', 'Arnold_Schwarzenegger', 'Arnold_Schwarzenegger', 'Arnold_Schwarzenegger', 'Arnold_Schwarzenegger', 'Arnold_Schwarzenegger', 'Arnold_Schwarzenegger', 'Arnold_Schwarzenegger', 'Arnold_Schwarzenegger', 'Arnold_Schwarzenegger', 'Arnold_Schwarzenegger', 'Arnold_Schwarzenegger', 'Arnold_Schwarzenegger', 'Arnold_Schwarzenegger', 'Arnold_Schwarzenegger', 'Arnold_Schwarzenegger', 'Arnold_Schwarzenegger', 'Arnold_Schwarzenegger', 'Arnold_Schwarzenegger', 'Arnold_Schwarzenegger', 'Arnold_Schwarzenegger', 'Arnold_Schwarzenegger', 'Arnold_Schwarzenegger', 'Arnold_Schwarzenegger', 'Arnold_Schwarzenegger', 'Arnold_Schwarzenegger', 'Arnold_Schwarzenegger', 'Arnold_Schwarzenegger', 'Arnold_Schwarzenegger', 'Arnold_Schwarzenegger', 'Arnold_Schwarzenegger', 'Arnold_Schwarzenegger', 'Arnold_Schwarzenegger', 'Arnold_Schwarzenegger', 'Arnold_Schwarzenegger', 'Arnold_Schwarzenegger', 'Arnold_Schwarzenegger', 'Arnold_Scott', 'Arnoldo_Aleman', 'Arnoldo_Aleman', 'Arnoldo_Aleman', 'Arnoldo_Aleman', 'Arnoldo_Aleman', 'Aron_Ralston', 'Aron_Ralston', 'Arsinee_Khanjian', 'Arsinee_Khanjian', 'Art_Cooper', 'Art_Hoffmann', 'Art_Hoffmann', 'Art_Howe', 'Art_Howe', 'Art_Howe', 'Art_Howe', 'Art_Lopez', 'Arthur_Johnson', 'Arthur_Martinez', 'Artieas_Shanks', 'Arturo_Gatti', 'Arturo_Gatti', 'Arturo_Gatti', 'Arye_Mekel', 'Arye_Mekel', 'Asa_Hutchinson', 'Asa_Hutchinson', 'Ascencion_Barajas', 'Ashanti', 'Ashanti', 'Ashanti', 'Ashanti', 'Ashanti', 'Ashlea_Talbot', 'Ashley_Judd', 'Ashley_Olsen', 'Ashley_Postell', 'Ashraf_Alasmar', 'Ashraf_Ghani', 'Ashton_Kutcher', 'Ashton_Kutcher', 'Ashton_Kutcher', 'Asif_Ali_Zardari']\n"
     ]
    }
   ],
   "source": [
    "fname = \"../openface/evaluation/tmp/labels.csv\"\n",
    "labels = pd.read_csv(fname, header=None).as_matrix()[:, 1]\n",
    "labels = map(itemgetter(1),\n",
    "                 map(os.path.split,\n",
    "                     map(os.path.dirname, labels)))\n",
    "print(labels)"
   ]
  },
  {
   "cell_type": "code",
   "execution_count": 23,
   "metadata": {
    "collapsed": false
   },
   "outputs": [
    {
     "name": "stdout",
     "output_type": "stream",
     "text": [
      "Training for 410 classes.\n"
     ]
    }
   ],
   "source": [
    "fname = \"../openface/evaluation/tmp/reps.csv\"\n",
    "embeddings = pd.read_csv(fname, header=None).as_matrix()\n",
    "le = LabelEncoder().fit(labels)\n",
    "labelsNum = le.transform(labels)\n",
    "nClasses = len(le.classes_)\n",
    "print(\"Training for {} classes.\".format(nClasses))"
   ]
  },
  {
   "cell_type": "code",
   "execution_count": 24,
   "metadata": {
    "collapsed": false
   },
   "outputs": [
    {
     "name": "stdout",
     "output_type": "stream",
     "text": [
      "('time: ', 6.443264961242676)\n"
     ]
    }
   ],
   "source": [
    "start = time.time()\n",
    "clf = SVC(C=1, kernel='linear', probability=True)\n",
    "clf.fit(embeddings, labelsNum)\n",
    "print(\"time: \", time.time() - start)"
   ]
  },
  {
   "cell_type": "code",
   "execution_count": 25,
   "metadata": {
    "collapsed": false
   },
   "outputs": [
    {
     "name": "stdout",
     "output_type": "stream",
     "text": [
      "[ 0.00108415  0.00149217  0.00080138  0.00110299  0.00141003  0.00616316\n",
      "  0.0017664   0.00479375  0.0015393   0.00113907  0.00112351  0.00119973\n",
      "  0.00127773  0.00254916  0.00713078  0.00129427  0.00138274  0.00156024\n",
      "  0.0027776   0.001326    0.00182033  0.0010748   0.00609816  0.00350735\n",
      "  0.00158819  0.00419071  0.00357019  0.00130394  0.00146657  0.00133236\n",
      "  0.00105137  0.0013464   0.00121844  0.0012194   0.00109739  0.00133829\n",
      "  0.00846259  0.00282237  0.00491281  0.00145905  0.00153387  0.00527998\n",
      "  0.00247833  0.00123903  0.00117735  0.00133199  0.00368485  0.0010531\n",
      "  0.00306833  0.00121016  0.00111049  0.00128566  0.01014265  0.00117338\n",
      "  0.00110099  0.00130819  0.00130139  0.00161573  0.00373978  0.00123574\n",
      "  0.00331772  0.00113765  0.00134293  0.00132034  0.00124205  0.00162472\n",
      "  0.00360709  0.00600474  0.00332322  0.00101033  0.00111678  0.0010178\n",
      "  0.00103097  0.00114499  0.00266267  0.00123651  0.00113735  0.00112857\n",
      "  0.00611966  0.00887575  0.00117397  0.00139729  0.00107769  0.00456019\n",
      "  0.01495967  0.00104079  0.00621202  0.0024666   0.00158466  0.00115747\n",
      "  0.00329112  0.00131076  0.00162738  0.00914915  0.00131112  0.00122511\n",
      "  0.00414379  0.00128942  0.00145262  0.00104813  0.00118673  0.00137913\n",
      "  0.00174884  0.01028848  0.00099876  0.00155976  0.00124273  0.00376568\n",
      "  0.00151188  0.00118599  0.00138092  0.00135358  0.00351921  0.00131757\n",
      "  0.00441976  0.00132887  0.00361877  0.00249674  0.0081661   0.00130192\n",
      "  0.00354783  0.00547518  0.0012119   0.00141323  0.00139749  0.00127655\n",
      "  0.00123028  0.00606463  0.00120884  0.00818394  0.00097708  0.00121476\n",
      "  0.00128503  0.00324377  0.00114571  0.00116959  0.00113477  0.00106096\n",
      "  0.00126628  0.00118141  0.00108334  0.00317439  0.00120314  0.00466558\n",
      "  0.00111577  0.00101133  0.00114459  0.00125185  0.00528889  0.0042122\n",
      "  0.00110793  0.00098427  0.00303777  0.00129922  0.00139501  0.00128782\n",
      "  0.00134612  0.00381055  0.00318163  0.00115518  0.00103055  0.00121991\n",
      "  0.00105109  0.00139292  0.00114502  0.00132491  0.00135125  0.00118438\n",
      "  0.00141823  0.0012396   0.00121015  0.00121188  0.00125979  0.00360326\n",
      "  0.00137438  0.00129934  0.00115168  0.00129035  0.00143911  0.00148382\n",
      "  0.00318393  0.00133445  0.00212543  0.00330117  0.0011339   0.00115632\n",
      "  0.00130386  0.0038006   0.00104975  0.00368013  0.00128116  0.00140502\n",
      "  0.00144769  0.00152875  0.0035793   0.00156433  0.00120636  0.00112767\n",
      "  0.00125366  0.00500643  0.00090327  0.00337725  0.00138726  0.00106248\n",
      "  0.00484464  0.0015739   0.00098313  0.0009871   0.00377869  0.00376441\n",
      "  0.01840398  0.00112621  0.00139723  0.00117841  0.00332292  0.00368107\n",
      "  0.00424625  0.00114193  0.00132435  0.00099828  0.0040203   0.00134689\n",
      "  0.00446626  0.00802715  0.00394929  0.00122872  0.00151231  0.00354683\n",
      "  0.00122042  0.00125882  0.00153402  0.00131911  0.00119541  0.00123522\n",
      "  0.00125181  0.00155323  0.00123095  0.00578915  0.00121216  0.00471938\n",
      "  0.00116302  0.00104215  0.00119071  0.00482997  0.00123806  0.00663846\n",
      "  0.00529379  0.00128662  0.00920926  0.00099989  0.0010889   0.00112412\n",
      "  0.00139362  0.00145271  0.00124829  0.00159256  0.00121762  0.00114989\n",
      "  0.0012623   0.0038202   0.00118814  0.00134872  0.0011609   0.00119022\n",
      "  0.00106387  0.00402288  0.00091003  0.00411466  0.00108785  0.00128785\n",
      "  0.00091959  0.00125901  0.00116133  0.0033116   0.00106242  0.00110093\n",
      "  0.00914948  0.00113646  0.00117612  0.001404    0.00164222  0.00094949\n",
      "  0.00104468  0.0011641   0.00134001  0.00119818  0.00402258  0.00123633\n",
      "  0.00143463  0.00116048  0.00112872  0.01350519  0.00131043  0.00138633\n",
      "  0.00110831  0.00124246  0.00124171  0.00129832  0.00119127  0.00861176\n",
      "  0.00369727  0.00112665  0.00274874  0.00125448  0.00224691  0.00109755\n",
      "  0.00296344  0.00116527  0.00108794  0.00770228  0.00139058  0.00175002\n",
      "  0.00099389  0.00165496  0.00128874  0.00122993  0.00147443  0.00329407\n",
      "  0.00120705  0.00110127  0.00144015  0.01092012  0.00384845  0.00176058\n",
      "  0.0012697   0.00110127  0.00590042  0.00240169  0.00122781  0.0051054\n",
      "  0.00342738  0.00334967  0.0011424   0.00113239  0.00139559  0.0010948\n",
      "  0.00105491  0.00099976  0.00119873  0.00137373  0.00482375  0.0010916\n",
      "  0.00101699  0.00459305  0.00537926  0.00167129  0.00095976  0.00140258\n",
      "  0.00125562  0.00147766  0.00128151  0.00124044  0.00104196  0.00116321\n",
      "  0.00443577  0.00159822  0.00113609  0.00119609  0.00125885  0.0035338\n",
      "  0.00253419  0.00413235  0.00102946  0.0040003   0.00164676  0.00110879\n",
      "  0.00140014  0.0036233   0.00139224  0.00132009  0.00528323  0.00418492\n",
      "  0.00095006  0.00402054  0.00129783  0.0049647   0.00120757  0.00100413\n",
      "  0.00123462  0.00181396  0.00646746  0.00327413  0.00126662  0.00111157\n",
      "  0.00680912  0.02865182  0.00121801  0.00396076  0.00460043  0.0032961\n",
      "  0.00096707  0.00294721  0.01023322  0.00137252  0.00133198  0.00144473\n",
      "  0.00115187  0.0051694   0.00397003  0.00423333  0.00165012  0.00322124\n",
      "  0.0012028   0.00139014  0.00109897  0.00119216  0.00146293  0.00134435\n",
      "  0.00472176  0.00118002]\n"
     ]
    }
   ],
   "source": [
    "test = embeddings[0].reshape(1, -1)\n",
    "# test[0][1] = 0\n",
    "predictions = clf.predict_proba(test).ravel()\n",
    "print(predictions)"
   ]
  },
  {
   "cell_type": "code",
   "execution_count": 19,
   "metadata": {
    "collapsed": false
   },
   "outputs": [
    {
     "name": "stdout",
     "output_type": "stream",
     "text": [
      "Aaron_Eckhart\n"
     ]
    }
   ],
   "source": [
    "test = embeddings[0]\n",
    "diff = embeddings - test\n",
    "sqr = np.square(diff)\n",
    "s = np.sum(sqr, axis=1)\n",
    "m = np.ndarray.min(s)\n",
    "minimum = np.argmin(s)\n",
    "print(labels[minimum])"
   ]
  },
  {
   "cell_type": "code",
   "execution_count": 26,
   "metadata": {
    "collapsed": false
   },
   "outputs": [
    {
     "name": "stdout",
     "output_type": "stream",
     "text": [
      "('Arnold_Schwarzenegger', 0.028651815850630018)\n"
     ]
    }
   ],
   "source": [
    "maxI = np.argmax(predictions)\n",
    "person = labels[maxI]\n",
    "person = le.inverse_transform(maxI)\n",
    "confidence = predictions[maxI]\n",
    "print(person, confidence)"
   ]
  },
  {
   "cell_type": "code",
   "execution_count": null,
   "metadata": {
    "collapsed": true
   },
   "outputs": [],
   "source": [
    "def infer(args, multiple=False):\n",
    "    with open(args.classifierModel, 'rb') as f:\n",
    "        if sys.version_info[0] < 3:\n",
    "                (le, clf) = pickle.load(f)\n",
    "        else:\n",
    "                (le, clf) = pickle.load(f, encoding='latin1')\n",
    "\n",
    "    for img in args.imgs:\n",
    "        print(\"\\n=== {} ===\".format(img))\n",
    "        reps = getRep(img, multiple)\n",
    "        if len(reps) > 1:\n",
    "            print(\"List of faces in image from left to right\")\n",
    "        for r in reps:\n",
    "            rep = r[1].reshape(1, -1)\n",
    "            bbx = r[0]\n",
    "            start = time.time()\n",
    "            predictions = clf.predict_proba(rep).ravel()\n",
    "            maxI = np.argmax(predictions)\n",
    "            person = le.inverse_transform(maxI)\n",
    "            confidence = predictions[maxI]\n",
    "            if args.verbose:\n",
    "                print(\"Prediction took {} seconds.\".format(time.time() - start))\n",
    "            if multiple:\n",
    "                print(\"Predict {} @ x={} with {:.2f} confidence.\".format(person.decode('utf-8'), bbx,\n",
    "                                                                         confidence))\n",
    "            else:\n",
    "                print(\"Predict {} with {:.2f} confidence.\".format(person.decode('utf-8'), confidence))\n",
    "            if isinstance(clf, GMM):\n",
    "                dist = np.linalg.norm(rep - clf.means_[maxI])\n",
    "                print(\"  + Distance from the mean: {}\".format(dist))\n"
   ]
  },
  {
   "cell_type": "code",
   "execution_count": null,
   "metadata": {
    "collapsed": true
   },
   "outputs": [],
   "source": [
    "def train(args):\n",
    "    print(\"Loading embeddings.\")\n",
    "    fname = \"{}/labels.csv\".format(args.workDir)\n",
    "    labels = pd.read_csv(fname, header=None).as_matrix()[:, 1]\n",
    "    labels = map(itemgetter(1),\n",
    "                 map(os.path.split,\n",
    "                     map(os.path.dirname, labels)))  # Get the directory.\n",
    "    fname = \"{}/reps.csv\".format(args.workDir)\n",
    "    embeddings = pd.read_csv(fname, header=None).as_matrix()\n",
    "    le = LabelEncoder().fit(labels)\n",
    "    labelsNum = le.transform(labels)\n",
    "    nClasses = len(le.classes_)\n",
    "    print(\"Training for {} classes.\".format(nClasses))\n",
    "\n",
    "    if args.classifier == 'LinearSvm':\n",
    "        clf = SVC(C=1, kernel='linear', probability=True)\n",
    "    elif args.classifier == 'GridSearchSvm':\n",
    "        print(\"\"\"\n",
    "        Warning: In our experiences, using a grid search over SVM hyper-parameters only\n",
    "        gives marginally better performance than a linear SVM with C=1 and\n",
    "        is not worth the extra computations of performing a grid search.\n",
    "        \"\"\")\n",
    "        param_grid = [\n",
    "            {'C': [1, 10, 100, 1000],\n",
    "             'kernel': ['linear']},\n",
    "            {'C': [1, 10, 100, 1000],\n",
    "             'gamma': [0.001, 0.0001],\n",
    "             'kernel': ['rbf']}\n",
    "        ]\n",
    "        clf = GridSearchCV(SVC(C=1, probability=True), param_grid, cv=5)\n",
    "    elif args.classifier == 'GMM':  # Doesn't work best\n",
    "        clf = GMM(n_components=nClasses)\n",
    "\n",
    "    # ref:\n",
    "    # http://scikit-learn.org/stable/auto_examples/classification/plot_classifier_comparison.html#example-classification-plot-classifier-comparison-py\n",
    "    elif args.classifier == 'RadialSvm':  # Radial Basis Function kernel\n",
    "        # works better with C = 1 and gamma = 2\n",
    "        clf = SVC(C=1, kernel='rbf', probability=True, gamma=2)\n",
    "    elif args.classifier == 'DecisionTree':  # Doesn't work best\n",
    "        clf = DecisionTreeClassifier(max_depth=20)\n",
    "    elif args.classifier == 'GaussianNB':\n",
    "        clf = GaussianNB()\n",
    "\n",
    "    # ref: https://jessesw.com/Deep-Learning/\n",
    "    elif args.classifier == 'DBN':\n",
    "        from nolearn.dbn import DBN\n",
    "        clf = DBN([embeddings.shape[1], 500, labelsNum[-1:][0] + 1],  # i/p nodes, hidden nodes, o/p nodes\n",
    "                  learn_rates=0.3,\n",
    "                  # Smaller steps mean a possibly more accurate result, but the\n",
    "                  # training will take longer\n",
    "                  learn_rate_decays=0.9,\n",
    "                  # a factor the initial learning rate will be multiplied by\n",
    "                  # after each iteration of the training\n",
    "                  epochs=300,  # no of iternation\n",
    "                  # dropouts = 0.25, # Express the percentage of nodes that\n",
    "                  # will be randomly dropped as a decimal.\n",
    "                  verbose=1)\n",
    "\n",
    "    if args.ldaDim > 0:\n",
    "        clf_final = clf\n",
    "        clf = Pipeline([('lda', LDA(n_components=args.ldaDim)),\n",
    "                        ('clf', clf_final)])\n",
    "\n",
    "    clf.fit(embeddings, labelsNum)\n",
    "\n",
    "    fName = \"{}/classifier.pkl\".format(args.workDir)\n",
    "    print(\"Saving classifier to '{}'\".format(fName))\n",
    "    with open(fName, 'w') as f:\n",
    "        pickle.dump((le, clf), f)"
   ]
  },
  {
   "cell_type": "code",
   "execution_count": null,
   "metadata": {
    "collapsed": true
   },
   "outputs": [],
   "source": []
  }
 ],
 "metadata": {
  "kernelspec": {
   "display_name": "Python 2",
   "language": "python",
   "name": "python2"
  },
  "language_info": {
   "codemirror_mode": {
    "name": "ipython",
    "version": 2
   },
   "file_extension": ".py",
   "mimetype": "text/x-python",
   "name": "python",
   "nbconvert_exporter": "python",
   "pygments_lexer": "ipython2",
   "version": "2.7.13"
  }
 },
 "nbformat": 4,
 "nbformat_minor": 2
}
