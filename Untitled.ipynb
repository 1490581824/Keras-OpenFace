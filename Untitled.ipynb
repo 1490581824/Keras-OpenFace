{
 "cells": [
  {
   "cell_type": "code",
   "execution_count": 98,
   "metadata": {
    "collapsed": false
   },
   "outputs": [],
   "source": [
    "from keras.models import Sequential\n",
    "from keras.layers import Conv2D, ZeroPadding2D, Activation, Input, concatenate\n",
    "from keras.models import Model\n",
    "from keras.layers.normalization import BatchNormalization\n",
    "from keras.layers.pooling import MaxPooling2D\n",
    "from keras.layers.merge import Concatenate\n",
    "from keras.engine.topology import Layer\n",
    "import cv2\n",
    "import os\n",
    "import numpy as np\n",
    "from numpy import genfromtxt\n",
    "import pandas as pd\n",
    "import tensorflow as tf\n",
    "import utils as K\n",
    "\n",
    "np.set_printoptions(threshold=np.nan)\n",
    "\n",
    "w1 = '/Users/victor_sy_wang/Developer/ML/openface/models/openface/weights/l1_w.csv'\n",
    "b1 = '/Users/victor_sy_wang/Developer/ML/openface/models/openface/weights/l1_b.csv'\n",
    "w2 = '/Users/victor_sy_wang/Developer/ML/openface/models/openface/weights/l2_w.csv'\n",
    "b2 = '/Users/victor_sy_wang/Developer/ML/openface/models/openface/weights/l2_b.csv'\n",
    "m2 = '/Users/victor_sy_wang/Developer/ML/openface/models/openface/weights/l2_m.csv'\n",
    "v2 = '/Users/victor_sy_wang/Developer/ML/openface/models/openface/weights/l2_v.csv'\n",
    "w6 = '/Users/victor_sy_wang/Developer/ML/openface/models/openface/weights/l6_w.csv'\n",
    "b6 = '/Users/victor_sy_wang/Developer/ML/openface/models/openface/weights/l6_b.csv'\n",
    "w7 = '/Users/victor_sy_wang/Developer/ML/openface/models/openface/weights/l7_w.csv'\n",
    "b7 = '/Users/victor_sy_wang/Developer/ML/openface/models/openface/weights/l7_b.csv'\n",
    "m7 = '/Users/victor_sy_wang/Developer/ML/openface/models/openface/weights/l7_m.csv'\n",
    "v7 = '/Users/victor_sy_wang/Developer/ML/openface/models/openface/weights/l7_v.csv'\n",
    "w9 = '/Users/victor_sy_wang/Developer/ML/openface/models/openface/weights/l9_w.csv'\n",
    "b9 = '/Users/victor_sy_wang/Developer/ML/openface/models/openface/weights/l9_b.csv'\n",
    "w10 = '/Users/victor_sy_wang/Developer/ML/openface/models/openface/weights/l10_w.csv'\n",
    "b10 = '/Users/victor_sy_wang/Developer/ML/openface/models/openface/weights/l10_b.csv'\n",
    "m10 = '/Users/victor_sy_wang/Developer/ML/openface/models/openface/weights/l10_m.csv'\n",
    "v10 = '/Users/victor_sy_wang/Developer/ML/openface/models/openface/weights/l10_v.csv'\n",
    "\n",
    "inception_3a_1x1_conv_w_path = '/Users/victor_sy_wang/Developer/ML/openface/models/openface/weights/inception_3a_1x1_conv_w.csv'\n",
    "inception_3a_1x1_conv_b_path = '/Users/victor_sy_wang/Developer/ML/openface/models/openface/weights/inception_3a_1x1_conv_b.csv'\n",
    "inception_3a_1x1_batchnorm_w_path = '/Users/victor_sy_wang/Developer/ML/openface/models/openface/weights/inception_3a_1x1_batchnorm_w.csv'\n",
    "inception_3a_1x1_batchnorm_b_path = '/Users/victor_sy_wang/Developer/ML/openface/models/openface/weights/inception_3a_1x1_batchnorm_b.csv'\n",
    "inception_3a_1x1_batchnorm_m_path = '/Users/victor_sy_wang/Developer/ML/openface/models/openface/weights/inception_3a_1x1_batchnorm_m.csv'\n",
    "inception_3a_1x1_batchnorm_v_path = '/Users/victor_sy_wang/Developer/ML/openface/models/openface/weights/inception_3a_1x1_batchnorm_v.csv'\n",
    "\n",
    "inception_3a_pool_conv_w_path = '/Users/victor_sy_wang/Developer/ML/openface/models/openface/weights/inception_3a_pool_conv_w.csv'\n",
    "inception_3a_pool_conv_b_path = '/Users/victor_sy_wang/Developer/ML/openface/models/openface/weights/inception_3a_pool_conv_b.csv'\n",
    "inception_3a_pool_batchnorm_w_path = '/Users/victor_sy_wang/Developer/ML/openface/models/openface/weights/inception_3a_pool_batchnorm_w.csv'\n",
    "inception_3a_pool_batchnorm_b_path = '/Users/victor_sy_wang/Developer/ML/openface/models/openface/weights/inception_3a_pool_batchnorm_b.csv'\n",
    "inception_3a_pool_batchnorm_m_path = '/Users/victor_sy_wang/Developer/ML/openface/models/openface/weights/inception_3a_pool_batchnorm_m.csv'\n",
    "inception_3a_pool_batchnorm_v_path = '/Users/victor_sy_wang/Developer/ML/openface/models/openface/weights/inception_3a_pool_batchnorm_v.csv'\n",
    "\n",
    "img = cv2.imread('/Users/victor_sy_wang/Developer/ML/openface/data/lfw/dlib-affine-sz/Aaron_Eckhart/Aaron_Eckhart_0001.png', 1)\n",
    "img = img[...,::-1]\n",
    "img = np.around(np.transpose(img, (2,0,1))/255.0, decimals=12)"
   ]
  },
  {
   "cell_type": "code",
   "execution_count": 115,
   "metadata": {
    "collapsed": false
   },
   "outputs": [],
   "source": [
    "dirPath = '/Users/victor_sy_wang/Developer/ML/openface/models/openface/weights'\n",
    "fileNames = filter(lambda f: not f.startswith('.'), os.listdir(dirPath))\n",
    "paths = {}\n",
    "for n in fileNames:\n",
    "  paths[n.replace('.csv', '')] = dirPath + '/' + n"
   ]
  },
  {
   "cell_type": "code",
   "execution_count": 111,
   "metadata": {
    "collapsed": false
   },
   "outputs": [],
   "source": [
    "l1_w = genfromtxt(paths['l1_w'], delimiter=',', dtype=None)\n",
    "l1_w = l1_w.reshape(64, 147).reshape(64, 3, 7, 7)\n",
    "l1_w = np.transpose(l1_w, (2, 3, 1, 0))\n",
    "l1_b = genfromtxt(paths['l1_b'], delimiter=',', dtype=None)\n",
    "l1 = [l1_w, l1_b]\n",
    "\n",
    "\n",
    "l2_w = genfromtxt(paths['l2_w'], delimiter=',', dtype=None)\n",
    "l2_b = genfromtxt(paths['l2_b'], delimiter=',', dtype=None)\n",
    "l2_m = genfromtxt(paths['l2_m'], delimiter=',', dtype=None)\n",
    "l2_v = genfromtxt(paths['l2_v'], delimiter=',', dtype=None)\n",
    "l2 = [l2_w, l2_b, l2_m, l2_v]\n",
    "\n",
    "l6_w = genfromtxt(paths['l6_w'], delimiter=',', dtype=None)\n",
    "l6_w = l6_w.reshape(64, 64).reshape(64, 64, 1, 1)\n",
    "l6_w = np.transpose(l6_w, (2, 3, 1, 0))\n",
    "l6_b = genfromtxt(paths['l6_b'], delimiter=',', dtype=None)\n",
    "l6 = [l6_w, l6_b]\n",
    "\n",
    "l7_w = genfromtxt(paths['l7_w'], delimiter=',', dtype=None)\n",
    "l7_b = genfromtxt(paths['l7_b'], delimiter=',', dtype=None)\n",
    "l7_m = genfromtxt(paths['l7_m'], delimiter=',', dtype=None)\n",
    "l7_v = genfromtxt(paths['l7_v'], delimiter=',', dtype=None)\n",
    "l7 = [l7_w, l7_b, l7_m, l7_v]\n",
    "\n",
    "l9_w = genfromtxt(paths['l9_w'], delimiter=',', dtype=None)\n",
    "l9_w = l9_w.reshape(192, 576).reshape(192, 64, 3, 3)\n",
    "l9_w = np.transpose(l9_w, (2, 3, 1, 0))\n",
    "l9_b = genfromtxt(paths['l9_b'], delimiter=',', dtype=None)\n",
    "l9 = [l9_w, l9_b]\n",
    "\n",
    "l10_w = genfromtxt(paths['l10_w'], delimiter=',', dtype=None)\n",
    "l10_b = genfromtxt(paths['l10_b'], delimiter=',', dtype=None)\n",
    "l10_m = genfromtxt(paths['l10_m'], delimiter=',', dtype=None)\n",
    "l10_v = genfromtxt(paths['l10_v'], delimiter=',', dtype=None)\n",
    "l10 = [l10_w, l10_b, l10_m, l10_v]\n",
    "\n",
    "inception_3a_1x1_conv_w = genfromtxt(paths['inception_3a_1x1_conv_w'], delimiter=',', dtype=None)\n",
    "inception_3a_1x1_conv_w = inception_3a_1x1_conv_w.reshape(64, 192, 1, 1)\n",
    "inception_3a_1x1_conv_w = np.transpose(inception_3a_1x1_conv_w, (2, 3, 1, 0))\n",
    "inception_3a_1x1_conv_b = genfromtxt(paths['inception_3a_1x1_conv_b'], delimiter=',', dtype=None)\n",
    "inception_3a_1x1_conv = [inception_3a_1x1_conv_w, inception_3a_1x1_conv_b]\n",
    "\n",
    "inception_3a_1x1_batchnorm_w = genfromtxt(paths['inception_3a_1x1_batchnorm_w'], delimiter=',', dtype=None)\n",
    "inception_3a_1x1_batchnorm_b = genfromtxt(paths['inception_3a_1x1_batchnorm_b'], delimiter=',', dtype=None)\n",
    "inception_3a_1x1_batchnorm_m = genfromtxt(paths['inception_3a_1x1_batchnorm_m'], delimiter=',', dtype=None)\n",
    "inception_3a_1x1_batchnorm_v = genfromtxt(paths['inception_3a_1x1_batchnorm_v'], delimiter=',', dtype=None)\n",
    "inception_3a_1x1_batchnorm = [\n",
    "  inception_3a_1x1_batchnorm_w, inception_3a_1x1_batchnorm_b,\n",
    "  inception_3a_1x1_batchnorm_m, inception_3a_1x1_batchnorm_v\n",
    "]\n",
    "\n",
    "inception_3a_pool_conv_w = genfromtxt(paths['inception_3a_pool_conv_w'], delimiter=',', dtype=None)\n",
    "inception_3a_pool_conv_w = inception_3a_pool_conv_w.reshape(32, 192, 1, 1)\n",
    "inception_3a_pool_conv_w = np.transpose(inception_3a_pool_conv_w, (2, 3, 1, 0))\n",
    "inception_3a_pool_conv_b = genfromtxt(paths['inception_3a_pool_conv_b'], delimiter=',', dtype=None)\n",
    "inception_3a_pool_conv = [inception_3a_pool_conv_w, inception_3a_pool_conv_b]\n",
    "\n",
    "inception_3a_pool_batchnorm_w = genfromtxt(paths['inception_3a_pool_batchnorm_w'], delimiter=',', dtype=None)\n",
    "inception_3a_pool_batchnorm_b = genfromtxt(paths['inception_3a_pool_batchnorm_b'], delimiter=',', dtype=None)\n",
    "inception_3a_pool_batchnorm_m = genfromtxt(paths['inception_3a_pool_batchnorm_m'], delimiter=',', dtype=None)\n",
    "inception_3a_pool_batchnorm_v = genfromtxt(paths['inception_3a_pool_batchnorm_v'], delimiter=',', dtype=None)\n",
    "inception_3a_pool_batchnorm = [\n",
    "  inception_3a_pool_batchnorm_w, inception_3a_pool_batchnorm_b,\n",
    "  inception_3a_pool_batchnorm_m, inception_3a_pool_batchnorm_v\n",
    "]"
   ]
  },
  {
   "cell_type": "code",
   "execution_count": 3,
   "metadata": {
    "collapsed": false
   },
   "outputs": [],
   "source": [
    "class LRN2D(Layer):\n",
    "  \"\"\"\n",
    "  This code is adapted from pylearn2.\n",
    "  License at: https://github.com/lisa-lab/pylearn2/blob/master/LICENSE.txt\n",
    "  \"\"\"\n",
    "\n",
    "  def __init__(self, alpha=1e-4, k=2, beta=0.75, n=5, **kwargs):\n",
    "    if n % 2 == 0:\n",
    "      raise NotImplementedError(\"LRN2D only works with odd n. n provided: \" + str(n))\n",
    "    super(LRN2D, self).__init__(**kwargs)\n",
    "    self.alpha = alpha\n",
    "    self.k = k\n",
    "    self.beta = beta\n",
    "    self.n = n\n",
    "\n",
    "  def get_output(self, train):\n",
    "    X = self.get_input(train)\n",
    "    b, ch, r, c = K.shape(X)\n",
    "    half_n = self.n // 2\n",
    "    input_sqr = K.square(X)\n",
    "    extra_channels = K.zeros((b, ch + 2 * half_n, r, c))\n",
    "    input_sqr = K.concatenate([extra_channels[:, :half_n, :, :],\n",
    "                               input_sqr,\n",
    "                               extra_channels[:, half_n + ch:, :, :]],\n",
    "                              axis=1)\n",
    "    scale = self.k\n",
    "    for i in range(self.n):\n",
    "      scale += self.alpha * input_sqr[:, i:i + ch, :, :]\n",
    "    scale = scale ** self.beta\n",
    "    return X / scale\n",
    "\n",
    "  def get_config(self):\n",
    "    config = {\"name\": self.__class__.__name__,\n",
    "              \"alpha\": self.alpha,\n",
    "              \"k\": self.k,\n",
    "              \"beta\": self.beta,\n",
    "              \"n\": self.n}\n",
    "    base_config = super(LRN2D, self).get_config()\n",
    "    return dict(list(base_config.items()) + list(config.items()))"
   ]
  },
  {
   "cell_type": "code",
   "execution_count": 112,
   "metadata": {
    "collapsed": false
   },
   "outputs": [],
   "source": [
    "model = Sequential()\n",
    "model.add(ZeroPadding2D(padding=(3, 3), input_shape=(3, 96, 96), data_format='channels_first'))\n",
    "model.add(Conv2D(64, (7, 7), strides=(2, 2), data_format='channels_first'))\n",
    "model.add(BatchNormalization(axis=1, epsilon=0.00001))\n",
    "model.add(Activation('relu'))\n",
    "model.add(ZeroPadding2D(padding=(1, 1), data_format='channels_first'))\n",
    "model.add(MaxPooling2D(pool_size=3, strides=2, data_format='channels_first'))\n",
    "model.add(LRN2D())\n",
    "\n",
    "#8 => Inception2, torch layer6\n",
    "model.add(Conv2D(64, (1, 1), data_format='channels_first'))\n",
    "model.add(BatchNormalization(axis=1, epsilon=0.00001))\n",
    "model.add(Activation('relu'))\n",
    "model.add(ZeroPadding2D(padding=(1, 1), data_format='channels_first'))\n",
    "model.add(Conv2D(192, (3, 3), data_format='channels_first'))\n",
    "model.add(BatchNormalization(axis=1, epsilon=0.00001))\n",
    "model.add(Activation('relu'))\n",
    "model.add(LRN2D())\n",
    "model.add(ZeroPadding2D(padding=(1, 1), data_format='channels_first'))\n",
    "model.add(MaxPooling2D(pool_size=3, strides=2, data_format='channels_first'))\n",
    "\n",
    "#18 => Inception3a, torch layer14\n",
    "model.layers[1].set_weights(l1)\n",
    "model.layers[2].set_weights(l2)\n",
    "model.layers[7].set_weights(l6)\n",
    "model.layers[8].set_weights(l7)\n",
    "model.layers[11].set_weights(l9)\n",
    "model.layers[12].set_weights(l10)\n",
    "\n",
    "mid_input = Input(shape=(3, 96, 96))\n",
    "mid_output = model(mid_input)\n",
    "\n",
    "# Inception 3a\n",
    "# inception_3a_1x1 = Conv2D(64, (1, 1), data_format='channels_first', name='inception_3a_1x1_conv')(mid_output)\n",
    "# inception_3a_1x1 = BatchNormalization(axis=1, epsilon=0.00001, name='inception_3a_1x1_batchnorm')(inception_3a_1x1)\n",
    "# inception_3a_1x1 = Activation('relu')(inception_3a_1x1)\n",
    "\n",
    "inception_3a_pool = MaxPooling2D(pool_size=3, strides=2, data_format='channels_first')(mid_output)\n",
    "inception_3a_pool = Conv2D(32, (1, 1), data_format='channels_first', name='inception_3a_pool_conv')(inception_3a_pool)\n",
    "inception_3a_pool = BatchNormalization(axis=1, epsilon=0.00001, name='inception_3a_pool_batchnorm')(inception_3a_pool)\n",
    "inception_3a_pool = Activation('relu')(inception_3a_pool)\n",
    "\n",
    "#--------------#\n",
    "newModel = Model(inputs=[mid_input], outputs=inception_3a_pool)\n",
    "# inception_3a_1x1_output = concatenate([inception_3a_1x1, inception_3a_1x1], axis=1)\n",
    "\n"
   ]
  },
  {
   "cell_type": "code",
   "execution_count": 113,
   "metadata": {
    "collapsed": false
   },
   "outputs": [],
   "source": [
    "# newModel.get_layer('inception_3a_1x1_conv').set_weights(inception_3a_1x1_conv)\n",
    "# newModel.get_layer('inception_3a_1x1_batchnorm').set_weights(inception_3a_1x1_batchnorm)\n",
    "\n",
    "newModel.get_layer('inception_3a_pool_conv').set_weights(inception_3a_pool_conv)\n",
    "newModel.get_layer('inception_3a_pool_batchnorm').set_weights(inception_3a_pool_batchnorm)"
   ]
  },
  {
   "cell_type": "code",
   "execution_count": 114,
   "metadata": {
    "collapsed": false
   },
   "outputs": [
    {
     "name": "stdout",
     "output_type": "stream",
     "text": [
      "[[ 0.63138342  0.12217242  0.56438488  1.09807563  0.86877656]\n",
      " [ 0.          0.16170913  0.55725783  1.03777754  1.07799518]\n",
      " [ 0.          0.          0.          0.          0.00684211]\n",
      " [ 0.          0.          0.          0.18151966  0.28275567]\n",
      " [ 0.          0.          0.16799441  0.21269864  0.37619263]]\n"
     ]
    }
   ],
   "source": [
    "x_train = np.array([img])\n",
    "y = newModel.predict_on_batch(x_train)\n",
    "print y[0][1]"
   ]
  },
  {
   "cell_type": "code",
   "execution_count": 119,
   "metadata": {
    "collapsed": false
   },
   "outputs": [],
   "source": [
    "img = cv2.imread('/Users/victor_sy_wang/Developer/ML/openface/data/lfw/dlib-affine-sz/Aaron_Eckhart/Aaron_Eckhart_0001.png', 1)\n",
    "img = img[...,::-1]\n",
    "img = np.around(np.transpose(img, (2,0,1))/255.0, decimals=12)=\n",
    "\n",
    "x_train = np.array([img])\n",
    "y = model.predict_on_batch(x_train)\n",
    "# print(y[0][0][47])"
   ]
  },
  {
   "cell_type": "code",
   "execution_count": 120,
   "metadata": {
    "collapsed": false
   },
   "outputs": [
    {
     "name": "stdout",
     "output_type": "stream",
     "text": [
      "(1, 192, 12, 12)\n",
      "[[ 2.2170074   2.2170074   1.7586298   1.7586298   1.52526164  1.0788908\n",
      "   1.12431765  0.75400519  0.43300831  0.60248494  0.24098226  0.24098226]\n",
      " [ 1.26282716  1.24833441  1.24833441  0.83356905  0.75118148  1.06663358\n",
      "   0.53794754  0.00834423  0.          0.          0.          0.        ]\n",
      " [ 1.1086297   0.8423025   1.14931428  0.85644209  1.17395496  1.17395496\n",
      "   0.20334938  1.30369282  1.30369282  0.72540182  0.48166224  0.        ]\n",
      " [ 1.42832053  1.47220004  1.23182702  0.85644209  1.17395496  1.17395496\n",
      "   0.1326133   1.30369282  1.30369282  0.72546029  0.48166224  0.        ]\n",
      " [ 1.50000203  1.50000203  1.38150764  1.05147398  0.77453184  0.38741794\n",
      "   0.07243127  1.00882506  1.15925574  0.72546029  0.06109819  0.        ]\n",
      " [ 1.21139097  1.46302986  1.38150764  1.05147398  0.44674999  0.55251473\n",
      "   0.09962156  0.6655305   0.97156864  0.45745906  0.          0.        ]\n",
      " [ 1.50898075  1.07527447  1.07527447  0.7114675   0.30391675  0.34369788\n",
      "   0.          0.65269899  0.69916195  0.29068857  0.          0.        ]\n",
      " [ 1.50898075  0.82546318  0.95824927  1.57933092  1.57933092  0.85730088\n",
      "   0.59729421  0.57515872  0.86110663  0.42891341  0.          0.48921028]\n",
      " [ 0.48997375  0.47927898  0.73290712  1.87219214  1.87219214  1.12745595\n",
      "   0.59729421  0.57515872  0.86110663  0.42891341  0.          0.48921028]\n",
      " [ 0.61653948  0.20481959  0.57134593  0.64694488  0.83124149  0.72764784\n",
      "   0.2665453   0.08910596  0.          0.          0.02414757  0.4242382 ]\n",
      " [ 0.67586076  0.          0.73554569  0.81951439  0.83124149  0.72764784\n",
      "   0.39898053  0.          0.          0.06316125  0.2177195   0.51616812]\n",
      " [ 0.35815758  0.          0.46324372  0.81951439  0.72811484  0.45784378\n",
      "   0.39898053  0.          0.          0.06316125  0.2177195   0.11018515]]\n"
     ]
    }
   ],
   "source": [
    "# model.layers[1].get_weights()[0].shape\n",
    "print(y.shape)\n",
    "print(y[0][0])"
   ]
  },
  {
   "cell_type": "code",
   "execution_count": null,
   "metadata": {
    "collapsed": true
   },
   "outputs": [],
   "source": []
  }
 ],
 "metadata": {
  "kernelspec": {
   "display_name": "Python 2",
   "language": "python",
   "name": "python2"
  },
  "language_info": {
   "codemirror_mode": {
    "name": "ipython",
    "version": 2
   },
   "file_extension": ".py",
   "mimetype": "text/x-python",
   "name": "python",
   "nbconvert_exporter": "python",
   "pygments_lexer": "ipython2",
   "version": "2.7.13"
  }
 },
 "nbformat": 4,
 "nbformat_minor": 2
}
